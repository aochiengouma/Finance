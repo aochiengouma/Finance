{
 "cells": [
  {
   "cell_type": "markdown",
   "metadata": {},
   "source": [
    "# 4. Value at Risk and Its Application with Python\n",
    "## Anthony Ochieng"
   ]
  },
  {
   "cell_type": "markdown",
   "metadata": {},
   "source": [
    "Banking industry undertakes countless number of transactions in an ordinary day ranging from low to high risk. However, it is not how many transaction a bank can do in a day that matters. Rather, despite the high volume, if a bank can manage its risk without sacrificing its profit too much, that is a good banking practice. Monitoring and managing the risk have been a long standing issue. To remedy this problem, each bank developed their own risk system however the diversity of the risks faced by companies, the difficulties in measuring the effects of these risks, and the change of risk factors over time have led regulators to establish a standard methodology."
   ]
  },
  {
   "cell_type": "markdown",
   "metadata": {},
   "source": [
    "Thus, in order to measure the exposed risk in a day-to-day operations, in the late 1980s, J.P. Morgan developed `Value-at-Risk` (VaR) model, which is easy-to-apply and intuitive method. "
   ]
  },
  {
   "cell_type": "markdown",
   "metadata": {},
   "source": [
    "we will discuss the widely applicable risk measuring techniques and its application in Python. These techniques are:\n",
    "* Value-at-Risk\n",
    "* Credit Value-at-Risk"
   ]
  },
  {
   "cell_type": "markdown",
   "metadata": {},
   "source": [
    "## 4.1. Value-at-Risk"
   ]
  },
  {
   "cell_type": "markdown",
   "metadata": {},
   "source": [
    "Generally speaking, `VaR` is a method developed for measuring the likely loss of an asset or a portfolio over given time and confidence interval. More specifically, assume that, at 95% confidence interval, VaR of an asset or a portfolio is 1 million USD in a day meaning that 95% chance we have 1 million USD loss in a day at most. In other words, there is only a 5% chance that we loss more than 1 million USD in a day."
   ]
  },
  {
   "cell_type": "markdown",
   "metadata": {},
   "source": [
    "There are some important points in VaR analysis that needs to be highlighted:\n",
    "    * VaR needs an estimation of the probability of loss\n",
    "    * VaR concentrates on the potential losses. We are not talking about actual or realized losses rather VaR is a kind of loss projection\n",
    "    * VaR has three key ingredients: \n",
    "        * Standard deviation that defines the level of loss\n",
    "        * Fixed time horizon over which risk is assessed\n",
    "        * Confidence Interval"
   ]
  },
  {
   "cell_type": "markdown",
   "metadata": {},
   "source": [
    "<img src=\"../assets/VAR Dan G 2015.png\" alt=\"VaR Illustration\" style=\"width:150;height:300px;\">"
   ]
  },
  {
   "cell_type": "markdown",
   "metadata": {},
   "source": [
    "**Source:** Dan, G. (2015)"
   ]
  },
  {
   "cell_type": "markdown",
   "metadata": {},
   "source": [
    "As in other models, VaR also has certain advantages and disadvantages:"
   ]
  },
  {
   "cell_type": "markdown",
   "metadata": {},
   "source": [
    "**Advantages**\n",
    "* It implies important insights about the potential risk\n",
    "- It is an easy method to understand\n",
    "\n",
    "**Disadvantages**\n",
    "\n",
    "* Historical data might be misleading\n",
    "* Some assumptions might lead to biased results\n",
    "* Extraordinary events do not considered in VaR\n"
   ]
  },
  {
   "cell_type": "markdown",
   "metadata": {},
   "source": [
    "In the literature, different VaR techniques stand out among which `Variance-Covariance Method` and `Monte Carlo Simulation` are the most prominent ones. In this lesson, we will theoretically discuss and learn how to apply them in Python."
   ]
  },
  {
   "cell_type": "markdown",
   "metadata": {},
   "source": [
    "### 4.1.1. Variance-Covariance Method VaR"
   ]
  },
  {
   "cell_type": "markdown",
   "metadata": {},
   "source": [
    "In many parametric models in finance, returns are generally assumed to be normally distributed. In this method, we obtain standard deviaton and correlation structure of historical returns and expected losses are computed."
   ]
  },
  {
   "cell_type": "markdown",
   "metadata": {},
   "source": [
    "The formula of Variance-Covariance VaR is as follows:"
   ]
  },
  {
   "cell_type": "markdown",
   "metadata": {},
   "source": [
    "$$\\text{VaR}=V*\\sigma_p*\\sqrt{t}*Z_{\\alpha}$$"
   ]
  },
  {
   "cell_type": "markdown",
   "metadata": {},
   "source": [
    "where\n",
    "* V: Value of the portfolio\n",
    "* $\\sigma_p$: Standard Deviation of the portfolio\n",
    "* t: Holding Period\n",
    "* $Z_\\alpha$: A value corresponding the confidence interval in Normal Distribution Table"
   ]
  },
  {
   "cell_type": "markdown",
   "metadata": {},
   "source": [
    "If VaR analysis is conducted over a single asset then we substitute $\\sigma_p$ with $\\sigma$ and the rest of the inputs stays as they are."
   ]
  },
  {
   "cell_type": "markdown",
   "metadata": {},
   "source": [
    "The variance-covariance method borrows its name from the following operation. In determining the value of $\\sigma_p$, we take into account the correlation structure among assets in a portfolio. For the sake of easiness, let's assume that we have 2-asset portfolio:"
   ]
  },
  {
   "cell_type": "markdown",
   "metadata": {},
   "source": [
    "$$\\sigma_p=\\sqrt{w_1^2\\sigma_1^2+w_2^2\\sigma_2^2+\\rho w_1w_2\\sigma_1\\sigma_2}$$"
   ]
  },
  {
   "cell_type": "markdown",
   "metadata": {},
   "source": [
    "where w is the weight of the asset in the portfolio."
   ]
  },
  {
   "cell_type": "markdown",
   "metadata": {},
   "source": [
    "Now, it is time to learn how to apply Variance-Covariance VaR analysis in Python."
   ]
  },
  {
   "cell_type": "code",
   "execution_count": 1,
   "metadata": {},
   "outputs": [],
   "source": [
    "import pandas as pd\n",
    "import numpy as np\n",
    "import matplotlib.pyplot as plt\n",
    "import datetime\n",
    "import yfinance as yf\n",
    "from scipy.stats import norm\n",
    "import seaborn as sns; sns.set()"
   ]
  },
  {
   "cell_type": "markdown",
   "metadata": {},
   "source": [
    "We will use the same stocks and time period as we did in volatility analysis:"
   ]
  },
  {
   "cell_type": "code",
   "execution_count": 2,
   "metadata": {},
   "outputs": [
    {
     "name": "stdout",
     "output_type": "stream",
     "text": [
      "[*********************100%***********************]  4 of 4 completed\n"
     ]
    }
   ],
   "source": [
    "stocks = ['F','BLK','GOOG','AMZN']\n",
    "start = datetime.datetime(2010,1,1)\n",
    "end = datetime.datetime(2020,4,1)\n",
    "stock_prices = yf.download(stocks,start=start,end = end, interval='1d')['Adj Close']"
   ]
  },
  {
   "cell_type": "code",
   "execution_count": 3,
   "metadata": {},
   "outputs": [],
   "source": [
    "returns = stock_prices.pct_change()"
   ]
  },
  {
   "cell_type": "code",
   "execution_count": 4,
   "metadata": {},
   "outputs": [
    {
     "data": {
      "text/html": [
       "<div>\n",
       "<style scoped>\n",
       "    .dataframe tbody tr th:only-of-type {\n",
       "        vertical-align: middle;\n",
       "    }\n",
       "\n",
       "    .dataframe tbody tr th {\n",
       "        vertical-align: top;\n",
       "    }\n",
       "\n",
       "    .dataframe thead th {\n",
       "        text-align: right;\n",
       "    }\n",
       "</style>\n",
       "<table border=\"1\" class=\"dataframe\">\n",
       "  <thead>\n",
       "    <tr style=\"text-align: right;\">\n",
       "      <th></th>\n",
       "      <th>AMZN</th>\n",
       "      <th>BLK</th>\n",
       "      <th>F</th>\n",
       "      <th>GOOG</th>\n",
       "    </tr>\n",
       "    <tr>\n",
       "      <th>Date</th>\n",
       "      <th></th>\n",
       "      <th></th>\n",
       "      <th></th>\n",
       "      <th></th>\n",
       "    </tr>\n",
       "  </thead>\n",
       "  <tbody>\n",
       "    <tr>\n",
       "      <th>2010-01-04</th>\n",
       "      <td>-0.004609</td>\n",
       "      <td>0.027476</td>\n",
       "      <td>0.028000</td>\n",
       "      <td>0.010920</td>\n",
       "    </tr>\n",
       "    <tr>\n",
       "      <th>2010-01-05</th>\n",
       "      <td>0.005900</td>\n",
       "      <td>0.004318</td>\n",
       "      <td>0.066148</td>\n",
       "      <td>-0.004404</td>\n",
       "    </tr>\n",
       "    <tr>\n",
       "      <th>2010-01-06</th>\n",
       "      <td>-0.018116</td>\n",
       "      <td>-0.020617</td>\n",
       "      <td>0.037408</td>\n",
       "      <td>-0.025209</td>\n",
       "    </tr>\n",
       "    <tr>\n",
       "      <th>2010-01-07</th>\n",
       "      <td>-0.017013</td>\n",
       "      <td>0.010994</td>\n",
       "      <td>0.025506</td>\n",
       "      <td>-0.023280</td>\n",
       "    </tr>\n",
       "    <tr>\n",
       "      <th>2010-01-08</th>\n",
       "      <td>0.027077</td>\n",
       "      <td>0.007039</td>\n",
       "      <td>0.002572</td>\n",
       "      <td>0.013331</td>\n",
       "    </tr>\n",
       "  </tbody>\n",
       "</table>\n",
       "</div>"
      ],
      "text/plain": [
       "                AMZN       BLK         F      GOOG\n",
       "Date                                              \n",
       "2010-01-04 -0.004609  0.027476  0.028000  0.010920\n",
       "2010-01-05  0.005900  0.004318  0.066148 -0.004404\n",
       "2010-01-06 -0.018116 -0.020617  0.037408 -0.025209\n",
       "2010-01-07 -0.017013  0.010994  0.025506 -0.023280\n",
       "2010-01-08  0.027077  0.007039  0.002572  0.013331"
      ]
     },
     "execution_count": 4,
     "metadata": {},
     "output_type": "execute_result"
    }
   ],
   "source": [
    "returns.dropna(inplace=True)\n",
    "returns.head()"
   ]
  },
  {
   "cell_type": "markdown",
   "metadata": {},
   "source": [
    "Let's generate variance-covariance matrix. This is really easy as pie with Python:"
   ]
  },
  {
   "cell_type": "code",
   "execution_count": 5,
   "metadata": {},
   "outputs": [
    {
     "data": {
      "text/html": [
       "<div>\n",
       "<style scoped>\n",
       "    .dataframe tbody tr th:only-of-type {\n",
       "        vertical-align: middle;\n",
       "    }\n",
       "\n",
       "    .dataframe tbody tr th {\n",
       "        vertical-align: top;\n",
       "    }\n",
       "\n",
       "    .dataframe thead th {\n",
       "        text-align: right;\n",
       "    }\n",
       "</style>\n",
       "<table border=\"1\" class=\"dataframe\">\n",
       "  <thead>\n",
       "    <tr style=\"text-align: right;\">\n",
       "      <th></th>\n",
       "      <th>AMZN</th>\n",
       "      <th>BLK</th>\n",
       "      <th>F</th>\n",
       "      <th>GOOG</th>\n",
       "    </tr>\n",
       "  </thead>\n",
       "  <tbody>\n",
       "    <tr>\n",
       "      <th>AMZN</th>\n",
       "      <td>0.000391</td>\n",
       "      <td>0.000144</td>\n",
       "      <td>0.000131</td>\n",
       "      <td>0.000182</td>\n",
       "    </tr>\n",
       "    <tr>\n",
       "      <th>BLK</th>\n",
       "      <td>0.000144</td>\n",
       "      <td>0.000306</td>\n",
       "      <td>0.000189</td>\n",
       "      <td>0.000146</td>\n",
       "    </tr>\n",
       "    <tr>\n",
       "      <th>F</th>\n",
       "      <td>0.000131</td>\n",
       "      <td>0.000189</td>\n",
       "      <td>0.000353</td>\n",
       "      <td>0.000120</td>\n",
       "    </tr>\n",
       "    <tr>\n",
       "      <th>GOOG</th>\n",
       "      <td>0.000182</td>\n",
       "      <td>0.000146</td>\n",
       "      <td>0.000120</td>\n",
       "      <td>0.000259</td>\n",
       "    </tr>\n",
       "  </tbody>\n",
       "</table>\n",
       "</div>"
      ],
      "text/plain": [
       "          AMZN       BLK         F      GOOG\n",
       "AMZN  0.000391  0.000144  0.000131  0.000182\n",
       "BLK   0.000144  0.000306  0.000189  0.000146\n",
       "F     0.000131  0.000189  0.000353  0.000120\n",
       "GOOG  0.000182  0.000146  0.000120  0.000259"
      ]
     },
     "execution_count": 5,
     "metadata": {},
     "output_type": "execute_result"
    }
   ],
   "source": [
    "cov_var_matrix=returns.cov()\n",
    "cov_var_matrix"
   ]
  },
  {
   "cell_type": "markdown",
   "metadata": {},
   "source": [
    "Here, we have the variance-covariance matrix. The diagonal elements give us the variance of the related stock and off-diagonal elements show the covariance of the stocks. For instance, return variance of `Amazon`is 0.000391 and covariance between BlackRock and Ford is 0.00019."
   ]
  },
  {
   "cell_type": "markdown",
   "metadata": {},
   "source": [
    "Now, we calculate the variance-covariance matrix and are ready to derive portfolio standard deviation, which is nothing but a square root of the dot product as given:"
   ]
  },
  {
   "cell_type": "markdown",
   "metadata": {},
   "source": [
    "$$w^T\\Sigma w$$"
   ]
  },
  {
   "cell_type": "markdown",
   "metadata": {},
   "source": [
    "where w is weight and $\\Sigma$ is variance-covariance matrix"
   ]
  },
  {
   "cell_type": "code",
   "execution_count": 6,
   "metadata": {},
   "outputs": [],
   "source": [
    "def var_cov_VaR():\n",
    "    conf_level = 0.95\n",
    "    initial_investment=1e6\n",
    "    weights  = np.random.random(len(returns.columns))\n",
    "    weights /= np.sum(weights)\n",
    "    port_std = np.sqrt(weights.T.dot(cov_var_matrix).dot(weights))\n",
    "    VaR = initial_investment*port_std*norm.ppf(conf_level)\n",
    "    return VaR"
   ]
  },
  {
   "cell_type": "code",
   "execution_count": 7,
   "metadata": {},
   "outputs": [
    {
     "name": "stdout",
     "output_type": "stream",
     "text": [
      "The Value at Risk at 95% confidence interval is 22763\n"
     ]
    }
   ],
   "source": [
    "VaR=var_cov_VaR()\n",
    "print(\"The Value at Risk at 95% confidence interval is {}\".format(int(VaR)))"
   ]
  },
  {
   "cell_type": "markdown",
   "metadata": {},
   "source": [
    "The VaR value of $24203 tells us that an investment of 1M USD will not exceed losses greater than 24203 USD at 95% confidence interval over `a day`."
   ]
  },
  {
   "cell_type": "markdown",
   "metadata": {},
   "source": [
    "The question is now how can we calculate the VaR over longer period because it is quite natural to have an idea about risk over longer period. Based on the model provided above, it is an easy task all we need to do is to multiply the VaR result by a factor of $\\sqrt t$ where t is time horizon and it start with 1 day ends with 30 in this case:"
   ]
  },
  {
   "cell_type": "code",
   "execution_count": 8,
   "metadata": {},
   "outputs": [],
   "source": [
    "def daily_var():\n",
    "    var_horizon=[]\n",
    "    time_horizon = 30\n",
    "    for i in range(1, time_horizon+1):    \n",
    "        var_horizon.append(VaR * np.sqrt(i))\n",
    "        print(str(i) + \" daily VaR is:{:.2f} \".format(VaR * np.sqrt(i)))\n",
    "    plt.xlabel(\"Days\")\n",
    "    plt.ylabel(\"USD\")\n",
    "    plt.title(\"VaR over 30-day period\")\n",
    "    plt.plot(var_horizon, \"o\",c='blue')"
   ]
  },
  {
   "cell_type": "code",
   "execution_count": 9,
   "metadata": {},
   "outputs": [
    {
     "name": "stdout",
     "output_type": "stream",
     "text": [
      "1 daily VaR is:22763.33 \n",
      "2 daily VaR is:32192.21 \n",
      "3 daily VaR is:39427.24 \n",
      "4 daily VaR is:45526.66 \n",
      "5 daily VaR is:50900.35 \n",
      "6 daily VaR is:55758.54 \n",
      "7 daily VaR is:60226.11 \n",
      "8 daily VaR is:64384.42 \n",
      "9 daily VaR is:68289.99 \n",
      "10 daily VaR is:71983.97 \n",
      "11 daily VaR is:75497.43 \n",
      "12 daily VaR is:78854.49 \n",
      "13 daily VaR is:82074.35 \n",
      "14 daily VaR is:85172.58 \n",
      "15 daily VaR is:88162.00 \n",
      "16 daily VaR is:91053.32 \n",
      "17 daily VaR is:93855.62 \n",
      "18 daily VaR is:96576.63 \n",
      "19 daily VaR is:99223.06 \n",
      "20 daily VaR is:101800.71 \n",
      "21 daily VaR is:104314.68 \n",
      "22 daily VaR is:106769.48 \n",
      "23 daily VaR is:109169.10 \n",
      "24 daily VaR is:111517.09 \n",
      "25 daily VaR is:113816.65 \n",
      "26 daily VaR is:116070.67 \n",
      "27 daily VaR is:118281.73 \n",
      "28 daily VaR is:120452.22 \n",
      "29 daily VaR is:122584.29 \n",
      "30 daily VaR is:124679.90 \n"
     ]
    },
    {
     "data": {
      "image/png": "[encoded data removed]",
      "text/plain": [
       "<Figure size 432x288 with 1 Axes>"
      ]
     },
     "metadata": {},
     "output_type": "display_data"
    }
   ],
   "source": [
    "daily_var()"
   ]
  },
  {
   "cell_type": "markdown",
   "metadata": {},
   "source": [
    "### 4.1.2. Monte Carlo Simulation VaR"
   ]
  },
  {
   "cell_type": "markdown",
   "metadata": {},
   "source": [
    "Monte Carlo Simulation is applicable to porfolios including stocks with non-linear return structure. In essence, it is similar to variance-covariance method but there is a main difference between these two methods. While the variance-covariance method incorporates real historical stock returns, Monte Carlo Simulation VaR employs a simulated random numbers generating from a statistical distribution mimicking the behavior of a real stock returns."
   ]
  },
  {
   "cell_type": "markdown",
   "metadata": {},
   "source": [
    "I am sure that you all remember the [Simulation Analysis and Its Application in Python Lesson](http://localhost:8888/notebooks/Python_For_Finance/Scenario_2/Simulation_Analysis_and_Its_Application_in_Python.ipynb) and how we derive `Geometric Brownian Motion`. Now, let's take advantage of it in Monte Carlo Simulation VaR."
   ]
  },
  {
   "cell_type": "code",
   "execution_count": 10,
   "metadata": {},
   "outputs": [],
   "source": [
    "def brownian_motion(T, N):\n",
    "    \"\"\"\n",
    "    T: total time\n",
    "    N: The total number of steps\n",
    "    W0: First Value of Brownian Motion\n",
    "    dt: Time increment\n",
    "    \"\"\"\n",
    "    W0 = 0\n",
    "    dt = T/N\n",
    "    increments = np.random.normal(0, 1*np.sqrt(dt), N)\n",
    "    W = W0 + np.cumsum(increments)\n",
    "    return W"
   ]
  },
  {
   "cell_type": "code",
   "execution_count": 11,
   "metadata": {},
   "outputs": [],
   "source": [
    "T=1\n",
    "N=10**3 \n",
    "dt = T / float(N)\n",
    "t=np.linspace(0.,N*dt,N)\n",
    "conf_level=0.95\n",
    "iterations=10000\n",
    "V=1e6"
   ]
  },
  {
   "cell_type": "code",
   "execution_count": 12,
   "metadata": {},
   "outputs": [],
   "source": [
    "def MC_VaR(V):\n",
    "    W=brownian_motion(T, N)\n",
    "    MC_VaR=V*np.std(W)*norm.ppf(conf_level)\n",
    "    return MC_VaR"
   ]
  },
  {
   "cell_type": "code",
   "execution_count": 13,
   "metadata": {},
   "outputs": [],
   "source": [
    "MC_VaR=MC_VaR(V)"
   ]
  },
  {
   "cell_type": "code",
   "execution_count": 14,
   "metadata": {},
   "outputs": [
    {
     "name": "stdout",
     "output_type": "stream",
     "text": [
      "At 95% Confidence Interval VaR is 669703.66\n"
     ]
    }
   ],
   "source": [
    "print(\"At 95% Confidence Interval VaR is {:.2f}\".format(MC_VaR))"
   ]
  },
  {
   "cell_type": "markdown",
   "metadata": {},
   "source": [
    "Monte Carlo Simulation VaR suggests a result of 500919.19 USD indicating that the potential loss at the given confidence interval cannot exceed 500919.19 USD and there is also 5% likelihood that the loss can even excess 500919.19 USD"
   ]
  },
  {
   "cell_type": "code",
   "execution_count": 15,
   "metadata": {},
   "outputs": [],
   "source": [
    "def daily_MC_var():\n",
    "    var_horizon=[]\n",
    "    time_horizon = 30\n",
    "    for i in range(1, time_horizon+1):    \n",
    "        var_horizon.append(MC_VaR * np.sqrt(i))\n",
    "        print(str(i) + \" daily VaR is:{:.2f} \".format(MC_VaR * np.sqrt(i)))\n",
    "    plt.xlabel(\"Days\")\n",
    "    plt.ylabel(\"USD\")\n",
    "    plt.title(\"MC VaR over 30-day period\")\n",
    "    plt.plot(var_horizon, \"o\",c='blue')"
   ]
  },
  {
   "cell_type": "code",
   "execution_count": 16,
   "metadata": {},
   "outputs": [
    {
     "name": "stdout",
     "output_type": "stream",
     "text": [
      "1 daily VaR is:669703.66 \n",
      "2 daily VaR is:947103.99 \n",
      "3 daily VaR is:1159960.76 \n",
      "4 daily VaR is:1339407.31 \n",
      "5 daily VaR is:1497502.90 \n",
      "6 daily VaR is:1640432.24 \n",
      "7 daily VaR is:1771869.33 \n",
      "8 daily VaR is:1894207.99 \n",
      "9 daily VaR is:2009110.97 \n",
      "10 daily VaR is:2117788.91 \n",
      "11 daily VaR is:2221155.75 \n",
      "12 daily VaR is:2319921.52 \n",
      "13 daily VaR is:2414650.87 \n",
      "14 daily VaR is:2505801.63 \n",
      "15 daily VaR is:2593751.11 \n",
      "16 daily VaR is:2678814.63 \n",
      "17 daily VaR is:2761258.91 \n",
      "18 daily VaR is:2841311.98 \n",
      "19 daily VaR is:2919170.56 \n",
      "20 daily VaR is:2995005.80 \n",
      "21 daily VaR is:3068967.70 \n",
      "22 daily VaR is:3141188.58 \n",
      "23 daily VaR is:3211785.91 \n",
      "24 daily VaR is:3280864.47 \n",
      "25 daily VaR is:3348518.28 \n",
      "26 daily VaR is:3414832.01 \n",
      "27 daily VaR is:3479882.28 \n",
      "28 daily VaR is:3543738.65 \n",
      "29 daily VaR is:3606464.56 \n",
      "30 daily VaR is:3668117.99 \n"
     ]
    },
    {
     "data": {
      "image/png": "[encoded data removed]",
      "text/plain": [
       "<Figure size 432x288 with 1 Axes>"
      ]
     },
     "metadata": {},
     "output_type": "display_data"
    }
   ],
   "source": [
    "daily_MC_var()"
   ]
  },
  {
   "cell_type": "markdown",
   "metadata": {},
   "source": [
    "## 4.2. Credit Value-at-Risk (CVaR)"
   ]
  },
  {
   "cell_type": "markdown",
   "metadata": {},
   "source": [
    "Credit risk occurs when counterpart are not able to honor its debt. This risk is assessed by financial instutions on a regular basis. Credit Value-at-Risk (CVaR) is one of the a widely appreciated tools to run this assessment regularly. "
   ]
  },
  {
   "cell_type": "markdown",
   "metadata": {},
   "source": [
    "Th logic of VaR applies here but in a different way. In CVaR, we are not inferring from the value of a portfolio, rather CVaR is based on the loss distribution of a portfolio or a single stock. We have two different of losses in a portfolio:\n",
    "* Expected Loss\n",
    "* Unexpected Loss"
   ]
  },
  {
   "cell_type": "markdown",
   "metadata": {},
   "source": [
    "The `Expected Loss` is the loss that are expected to happen and it is considered in pricing an asset. It is basically the sum of all likely losses of an asset in a portfolio meaning that mean of these losses correspond to expected loss. Technically speaking, the expected loss is the average loss that we would expect from an exposure over a given period of time."
   ]
  },
  {
   "cell_type": "markdown",
   "metadata": {},
   "source": [
    "The `Unexpected Loss`, on the other hand, is the total loss over and above expected loss. It is the difference between high percentile such as 99.9 as given below and the expected loss. It is also referred to as `Credit Value at Risk`."
   ]
  },
  {
   "cell_type": "markdown",
   "metadata": {},
   "source": [
    "<img src=\"../assets/EL-UEL.png\" alt=\"EL/UEL Illustration\" style=\"width:150;height:300px;\">"
   ]
  },
  {
   "cell_type": "markdown",
   "metadata": {},
   "source": [
    "**Source:** Serraino G., Uryasev S. (2013)"
   ]
  },
  {
   "cell_type": "markdown",
   "metadata": {},
   "source": [
    "The above-give graph illustrates the expected and unexpected losses. Please keep in mind that this is **not** a value distribution of a portfolio, it is a `loss` distribution. The mean of this skewed distribution gives us the expected loss and the portion between expected loss and high percentile amounts to unexpected loss, i.e. `CVAR`."
   ]
  },
  {
   "cell_type": "markdown",
   "metadata": {},
   "source": [
    "Time to practice! From the previous lessons, we know how to draw random samples from a distribution. This time, we draw random samples from log-normal distribution but before that let's import the necessary libraries along the way:"
   ]
  },
  {
   "cell_type": "code",
   "execution_count": 17,
   "metadata": {},
   "outputs": [],
   "source": [
    "from scipy.stats import poisson\n",
    "from scipy import stats\n",
    "from matplotlib  import pyplot as plt\n",
    "import numpy as np\n",
    "import pandas as pd\n",
    "import warnings\n",
    "warnings.filterwarnings(\"ignore\")"
   ]
  },
  {
   "cell_type": "markdown",
   "metadata": {},
   "source": [
    "Hull (2015) describes the general shape of probability distribution of default losses with following graph. It is readily observable that the loss distribution is right-skewed, i.e. the outliers gather around the tail on the right-hand side. In other words, having large losses is a rare event but it is highly likely to have small amount of losses."
   ]
  },
  {
   "cell_type": "markdown",
   "metadata": {},
   "source": [
    "<img src=\"../assets/loss_dist.png\" alt=\"Loss Distribution\" style=\"width:150;height:300px;\">"
   ]
  },
  {
   "cell_type": "markdown",
   "metadata": {},
   "source": [
    "Source: Risk Management and Financial Instutitions (2015)"
   ]
  },
  {
   "cell_type": "markdown",
   "metadata": {},
   "source": [
    "Practically, `log normal distribution` is the best fit of loss severity distribution, i.e. a probability distribution of the amount of losses incurred per event. Let's now fit our random samples from Poisson distribution to lognormal distribution. Log normal distribution has three outputs:"
   ]
  },
  {
   "cell_type": "markdown",
   "metadata": {},
   "source": [
    "shape, loc, scale = lognorm.fit(data)"
   ]
  },
  {
   "cell_type": "markdown",
   "metadata": {},
   "source": [
    "* `shape` \n",
    "* `loc` is mean\n",
    "* `scale` is standard deviation"
   ]
  },
  {
   "cell_type": "markdown",
   "metadata": {},
   "source": [
    "After importing required libraries, generating random number from log-normal distribution is the first step. Subsequent to having log-normally distributed random number, we need to fit it to the log-normal distribution to obtain the `shape`, `loc`, and `scale` that will be used as initial parameters in Monte Carlo Simulation process. Then histogram tells us what our data looks like."
   ]
  },
  {
   "cell_type": "markdown",
   "metadata": {},
   "source": [
    "Before you start searching, let me explain what is the function of `normed` in histogram. `Normed` regularizes the y-axis for us by calculating the percentage frequency. Without it, we have number of occurences on the y-axis. "
   ]
  },
  {
   "cell_type": "code",
   "execution_count": 18,
   "metadata": {
    "scrolled": true
   },
   "outputs": [
    {
     "data": {
      "image/png": "[encoded data removed]",
      "text/plain": [
       "<Figure size 720x360 with 1 Axes>"
      ]
     },
     "metadata": {},
     "output_type": "display_data"
    }
   ],
   "source": [
    "plt.figure(figsize=(10, 5))\n",
    "loss = stats.lognorm(0.5,loc=0,scale=1).rvs(size=2000)\n",
    "shape, loc, scale=stats.lognorm.fit(loss)\n",
    "plt.hist(loss,density=True)\n",
    "plt.xlabel('Losses')\n",
    "plt.ylabel('Loss Frequency')\n",
    "plt.show()"
   ]
  },
  {
   "cell_type": "markdown",
   "metadata": {},
   "source": [
    "We continue out hypothetical case using randomly generated data following log-normal distribution."
   ]
  },
  {
   "cell_type": "code",
   "execution_count": 19,
   "metadata": {},
   "outputs": [
    {
     "data": {
      "image/png": "[encoded data removed]",
      "text/plain": [
       "<Figure size 720x432 with 1 Axes>"
      ]
     },
     "metadata": {},
     "output_type": "display_data"
    }
   ],
   "source": [
    "plt.figure(figsize=(10, 6))\n",
    "plt.hist(loss, density=True, bins=25 )\n",
    "plt.xlabel('Losses')\n",
    "plt.ylabel('Loss Frequency')\n",
    "\n",
    "x = np.arange(0, 5, 0.01)\n",
    "shape, loc, scale = stats.lognorm.fit(loss)\n",
    "pdf = stats.lognorm.pdf(x, shape, loc=loc, scale=scale)\n",
    "plt.plot(x, pdf, 'r')\n",
    "plt.show()"
   ]
  },
  {
   "cell_type": "code",
   "execution_count": 20,
   "metadata": {},
   "outputs": [],
   "source": [
    "loss = stats.lognorm(0.5,loc=0,scale=1).rvs(size=2000)\n",
    "shape, loc, scale=stats.lognorm.fit(loss)"
   ]
  },
  {
   "cell_type": "code",
   "execution_count": 21,
   "metadata": {},
   "outputs": [],
   "source": [
    "lamda=3\n",
    "threshold=np.random.random()\n",
    "def loss_fn(loc, shape, scale, lamda,threshold):\n",
    "    X = []\n",
    "    for i in range(6):  \n",
    "        if (threshold<poisson.cdf(i, lamda)):\n",
    "            ind_loss=0\n",
    "        else:\n",
    "            ind_loss = stats.lognorm.rvs(s=shape, loc=loc, scale=scale)\n",
    "        X.append(ind_loss)   \n",
    "    return np.sum(X)"
   ]
  },
  {
   "cell_type": "code",
   "execution_count": 22,
   "metadata": {},
   "outputs": [],
   "source": [
    "losses = []\n",
    "iterations=10000\n",
    "for _ in range(iterations):\n",
    "    threshold= np.random.random()\n",
    "    losses.append(loss_fn(loc,shape, scale, lamda,threshold))"
   ]
  },
  {
   "cell_type": "code",
   "execution_count": 23,
   "metadata": {},
   "outputs": [
    {
     "data": {
      "image/png": "[encoded data removed]",
      "text/plain": [
       "<Figure size 720x432 with 1 Axes>"
      ]
     },
     "metadata": {},
     "output_type": "display_data"
    }
   ],
   "source": [
    "plt.figure(figsize=(10, 6))\n",
    "plt.hist(losses, density=True, bins=range(0, 10))\n",
    "plt.xlabel('Losses')\n",
    "plt.ylabel('Loss Frequency')\n",
    "plt.show()"
   ]
  },
  {
   "cell_type": "code",
   "execution_count": 24,
   "metadata": {},
   "outputs": [
    {
     "name": "stdout",
     "output_type": "stream",
     "text": [
      "Mean value of losses is 3.39\n",
      "95% confidence interval corresponds to 7.25\n"
     ]
    }
   ],
   "source": [
    "print(\"Mean value of losses is {:.2f}\".format(np.mean(losses)))\n",
    "print(\"95% confidence interval corresponds to {:.2f}\".format(np.percentile(losses,95)))"
   ]
  },
  {
   "cell_type": "code",
   "execution_count": 25,
   "metadata": {},
   "outputs": [
    {
     "data": {
      "image/png": "[encoded data removed]",
      "text/plain": [
       "<Figure size 720x432 with 1 Axes>"
      ]
     },
     "metadata": {},
     "output_type": "display_data"
    }
   ],
   "source": [
    "plt.figure(figsize=(10, 6))\n",
    "h = plt.hist(losses, bins=range(0, 10),density=True)\n",
    "plt.axvline(np.mean(losses), color='g', linestyle='dashed', linewidth=4)\n",
    "min_ylim, max_ylim = plt.ylim()\n",
    "plt.text(np.mean(losses), max_ylim*0.9, 'Mean: {:.2f}'.format(np.mean(losses)))\n",
    "plt.axvline(np.percentile(losses,95), color='r', linestyle='dashed', linewidth=4)\n",
    "plt.text(np.percentile(losses,95), max_ylim*0.9, '95%: {:.2f}'.format(np.percentile(losses,95)))\n",
    "plt.xlabel('Losses')\n",
    "plt.ylabel('Loss Frequency')\n",
    "plt.show()"
   ]
  },
  {
   "cell_type": "markdown",
   "metadata": {},
   "source": [
    "So, as the CVaR is unexpected loss, which is difference between mean of losses and 95th-percentile losses (in our case), it corresponds to **4** (7.29-3.29)."
   ]
  },
  {
   "cell_type": "markdown",
   "metadata": {},
   "source": [
    "# Conclusion"
   ]
  },
  {
   "cell_type": "markdown",
   "metadata": {},
   "source": [
    "As a widely applicable industry practice, Value-at-Risk has still good reputation despite some disadvantages. The ultimate goal of this lesson is to introduce the theoretical and empirical foundations of Value-at-Risk and Credit Value-at-Risk."
   ]
  },
  {
   "cell_type": "markdown",
   "metadata": {},
   "source": [
    "As you see, Python provides us a convenient platform to run these analysis. Now, it is your turn to get your hand dirty."
   ]
  },
  {
   "cell_type": "markdown",
   "metadata": {},
   "source": [
    "**References**"
   ]
  },
  {
   "cell_type": "markdown",
   "metadata": {},
   "source": [
    "* [Dan, G. (2015)](https://www.researchgate.net/publication/283563698_Aspects_of_Modeling_Fraud_Prevention_of_Online_Financial_Services). Aspects of Modeling Fraud Prevention of Online Financial Services (Doctoral dissertation, KTH Royal Institute of Technology"
   ]
  },
  {
   "cell_type": "markdown",
   "metadata": {},
   "source": [
    "* Serraino G., Uryasev S. (2013) Conditional Value-at-Risk (CVaR). In: Gass S.I., Fu M.C. (eds) Encyclopedia of Operations Research and Management Science. Springer, Boston, MA"
   ]
  }
 ],
 "metadata": {
  "kernelspec": {
   "display_name": "Python 3",
   "language": "python",
   "name": "python3"
  },
  "language_info": {
   "codemirror_mode": {
    "name": "ipython",
    "version": 3
   },
   "file_extension": ".py",
   "mimetype": "text/x-python",
   "name": "python",
   "nbconvert_exporter": "python",
   "pygments_lexer": "ipython3",
   "version": "3.7.6"
  }
 },
 "nbformat": 4,
 "nbformat_minor": 4
}
