{
 "cells": [
  {
   "cell_type": "markdown",
   "metadata": {},
   "source": [
    "## Time-Series Prediction\n",
    "## Imports"
   ]
  },
  {
   "cell_type": "code",
   "execution_count": 2,
   "metadata": {},
   "outputs": [
    {
     "name": "stderr",
     "output_type": "stream",
     "text": [
      "Using TensorFlow backend.\n"
     ]
    }
   ],
   "source": [
    "import numpy as np\n",
    "import pandas as pd\n",
    "pd.set_option('display.max_columns', 500)\n",
    "\n",
    "# Import the plotting library\n",
    "import matplotlib.pyplot as plt\n",
    "%matplotlib inline\n",
    "\n",
    "from keras.models import Sequential\n",
    "from keras.layers import Dense\n",
    "from keras.layers import Flatten\n",
    "from keras.layers.convolutional import Conv1D\n",
    "from keras.layers.convolutional import MaxPooling1D\n",
    "\n",
    "from keras.layers import GRU, Embedding, LSTM\n",
    "\n",
    "from keras.models import load_model\n",
    "from keras.callbacks import EarlyStopping\n",
    "from keras.callbacks import ModelCheckpoint\n",
    "\n",
    "from sklearn.preprocessing import MinMaxScaler\n",
    "\n",
    "import warnings\n",
    "warnings.filterwarnings('ignore')"
   ]
  },
  {
   "cell_type": "code",
   "execution_count": 3,
   "metadata": {},
   "outputs": [],
   "source": [
    "import yfinance as yf"
   ]
  },
  {
   "cell_type": "code",
   "execution_count": 4,
   "metadata": {},
   "outputs": [],
   "source": [
    "from pandas_datareader import data as wb"
   ]
  },
  {
   "cell_type": "markdown",
   "metadata": {},
   "source": [
    "## Download Stock Market Data using Yahoo Finance"
   ]
  },
  {
   "cell_type": "code",
   "execution_count": 6,
   "metadata": {},
   "outputs": [
    {
     "name": "stdout",
     "output_type": "stream",
     "text": [
      "[*********************100%***********************]  1 of 1 completed\n"
     ]
    },
    {
     "data": {
      "image/png": "[encoded data removed]",
      "text/plain": [
       "<Figure size 432x288 with 1 Axes>"
      ]
     },
     "metadata": {
      "needs_background": "light"
     },
     "output_type": "display_data"
    }
   ],
   "source": [
    "# Get the data of the stock AAPL\n",
    "aapl = yf.download('BTC-USD','2015-01-01','2021-09-20')\n",
    "# Plot the close price of the AAPL\n",
    "aapl['Adj Close'].plot()\n",
    "plt.title(\"Adjusted Close Price\", fontsize=16)\n",
    "# Define the labels for x-axis and y-axis\n",
    "plt.ylabel('Price', fontsize=14)\n",
    "plt.xlabel('Year', fontsize=14)\n",
    "plt.show()"
   ]
  },
  {
   "cell_type": "code",
   "execution_count": 7,
   "metadata": {},
   "outputs": [
    {
     "data": {
      "text/html": [
       "<div>\n",
       "<style scoped>\n",
       "    .dataframe tbody tr th:only-of-type {\n",
       "        vertical-align: middle;\n",
       "    }\n",
       "\n",
       "    .dataframe tbody tr th {\n",
       "        vertical-align: top;\n",
       "    }\n",
       "\n",
       "    .dataframe thead th {\n",
       "        text-align: right;\n",
       "    }\n",
       "</style>\n",
       "<table border=\"1\" class=\"dataframe\">\n",
       "  <thead>\n",
       "    <tr style=\"text-align: right;\">\n",
       "      <th></th>\n",
       "      <th>Open</th>\n",
       "      <th>High</th>\n",
       "      <th>Low</th>\n",
       "      <th>Close</th>\n",
       "      <th>Adj Close</th>\n",
       "      <th>Volume</th>\n",
       "    </tr>\n",
       "    <tr>\n",
       "      <th>Date</th>\n",
       "      <th></th>\n",
       "      <th></th>\n",
       "      <th></th>\n",
       "      <th></th>\n",
       "      <th></th>\n",
       "      <th></th>\n",
       "    </tr>\n",
       "  </thead>\n",
       "  <tbody>\n",
       "    <tr>\n",
       "      <th>2014-12-31</th>\n",
       "      <td>310.914001</td>\n",
       "      <td>320.192993</td>\n",
       "      <td>310.210999</td>\n",
       "      <td>320.192993</td>\n",
       "      <td>320.192993</td>\n",
       "      <td>13942900</td>\n",
       "    </tr>\n",
       "    <tr>\n",
       "      <th>2015-01-01</th>\n",
       "      <td>320.434998</td>\n",
       "      <td>320.434998</td>\n",
       "      <td>314.002991</td>\n",
       "      <td>314.248993</td>\n",
       "      <td>314.248993</td>\n",
       "      <td>8036550</td>\n",
       "    </tr>\n",
       "    <tr>\n",
       "      <th>2015-01-02</th>\n",
       "      <td>314.079010</td>\n",
       "      <td>315.838989</td>\n",
       "      <td>313.565002</td>\n",
       "      <td>315.032013</td>\n",
       "      <td>315.032013</td>\n",
       "      <td>7860650</td>\n",
       "    </tr>\n",
       "    <tr>\n",
       "      <th>2015-01-03</th>\n",
       "      <td>314.846008</td>\n",
       "      <td>315.149994</td>\n",
       "      <td>281.082001</td>\n",
       "      <td>281.082001</td>\n",
       "      <td>281.082001</td>\n",
       "      <td>33054400</td>\n",
       "    </tr>\n",
       "    <tr>\n",
       "      <th>2015-01-04</th>\n",
       "      <td>281.145996</td>\n",
       "      <td>287.230011</td>\n",
       "      <td>257.612000</td>\n",
       "      <td>264.195007</td>\n",
       "      <td>264.195007</td>\n",
       "      <td>55629100</td>\n",
       "    </tr>\n",
       "  </tbody>\n",
       "</table>\n",
       "</div>"
      ],
      "text/plain": [
       "                  Open        High         Low       Close   Adj Close  \\\n",
       "Date                                                                     \n",
       "2014-12-31  310.914001  320.192993  310.210999  320.192993  320.192993   \n",
       "2015-01-01  320.434998  320.434998  314.002991  314.248993  314.248993   \n",
       "2015-01-02  314.079010  315.838989  313.565002  315.032013  315.032013   \n",
       "2015-01-03  314.846008  315.149994  281.082001  281.082001  281.082001   \n",
       "2015-01-04  281.145996  287.230011  257.612000  264.195007  264.195007   \n",
       "\n",
       "              Volume  \n",
       "Date                  \n",
       "2014-12-31  13942900  \n",
       "2015-01-01   8036550  \n",
       "2015-01-02   7860650  \n",
       "2015-01-03  33054400  \n",
       "2015-01-04  55629100  "
      ]
     },
     "execution_count": 7,
     "metadata": {},
     "output_type": "execute_result"
    }
   ],
   "source": [
    "\n",
    "aapl.head()"
   ]
  },
  {
   "cell_type": "code",
   "execution_count": 8,
   "metadata": {},
   "outputs": [
    {
     "data": {
      "text/html": [
       "<div>\n",
       "<style scoped>\n",
       "    .dataframe tbody tr th:only-of-type {\n",
       "        vertical-align: middle;\n",
       "    }\n",
       "\n",
       "    .dataframe tbody tr th {\n",
       "        vertical-align: top;\n",
       "    }\n",
       "\n",
       "    .dataframe thead th {\n",
       "        text-align: right;\n",
       "    }\n",
       "</style>\n",
       "<table border=\"1\" class=\"dataframe\">\n",
       "  <thead>\n",
       "    <tr style=\"text-align: right;\">\n",
       "      <th></th>\n",
       "      <th>Open</th>\n",
       "      <th>High</th>\n",
       "      <th>Low</th>\n",
       "      <th>Close</th>\n",
       "      <th>Adj Close</th>\n",
       "      <th>Volume</th>\n",
       "    </tr>\n",
       "  </thead>\n",
       "  <tbody>\n",
       "    <tr>\n",
       "      <th>count</th>\n",
       "      <td>2451.000000</td>\n",
       "      <td>2451.000000</td>\n",
       "      <td>2451.000000</td>\n",
       "      <td>2451.000000</td>\n",
       "      <td>2451.000000</td>\n",
       "      <td>2.451000e+03</td>\n",
       "    </tr>\n",
       "    <tr>\n",
       "      <th>mean</th>\n",
       "      <td>9350.419142</td>\n",
       "      <td>9615.081302</td>\n",
       "      <td>9062.177696</td>\n",
       "      <td>9368.796542</td>\n",
       "      <td>9368.796542</td>\n",
       "      <td>1.405968e+10</td>\n",
       "    </tr>\n",
       "    <tr>\n",
       "      <th>std</th>\n",
       "      <td>13369.841865</td>\n",
       "      <td>13771.965951</td>\n",
       "      <td>12909.307361</td>\n",
       "      <td>13389.640780</td>\n",
       "      <td>13389.640780</td>\n",
       "      <td>2.005808e+10</td>\n",
       "    </tr>\n",
       "    <tr>\n",
       "      <th>min</th>\n",
       "      <td>176.897003</td>\n",
       "      <td>211.731003</td>\n",
       "      <td>171.509995</td>\n",
       "      <td>178.102997</td>\n",
       "      <td>178.102997</td>\n",
       "      <td>7.860650e+06</td>\n",
       "    </tr>\n",
       "    <tr>\n",
       "      <th>25%</th>\n",
       "      <td>639.860992</td>\n",
       "      <td>648.488007</td>\n",
       "      <td>631.771973</td>\n",
       "      <td>640.134003</td>\n",
       "      <td>640.134003</td>\n",
       "      <td>8.700620e+07</td>\n",
       "    </tr>\n",
       "    <tr>\n",
       "      <th>50%</th>\n",
       "      <td>6153.160156</td>\n",
       "      <td>6298.189941</td>\n",
       "      <td>5903.234375</td>\n",
       "      <td>6162.479980</td>\n",
       "      <td>6162.479980</td>\n",
       "      <td>4.922540e+09</td>\n",
       "    </tr>\n",
       "    <tr>\n",
       "      <th>75%</th>\n",
       "      <td>9725.666016</td>\n",
       "      <td>9930.312012</td>\n",
       "      <td>9531.005859</td>\n",
       "      <td>9729.562988</td>\n",
       "      <td>9729.562988</td>\n",
       "      <td>2.240453e+10</td>\n",
       "    </tr>\n",
       "    <tr>\n",
       "      <th>max</th>\n",
       "      <td>63523.753906</td>\n",
       "      <td>64863.097656</td>\n",
       "      <td>62208.964844</td>\n",
       "      <td>63503.457031</td>\n",
       "      <td>63503.457031</td>\n",
       "      <td>3.509679e+11</td>\n",
       "    </tr>\n",
       "  </tbody>\n",
       "</table>\n",
       "</div>"
      ],
      "text/plain": [
       "               Open          High           Low         Close     Adj Close  \\\n",
       "count   2451.000000   2451.000000   2451.000000   2451.000000   2451.000000   \n",
       "mean    9350.419142   9615.081302   9062.177696   9368.796542   9368.796542   \n",
       "std    13369.841865  13771.965951  12909.307361  13389.640780  13389.640780   \n",
       "min      176.897003    211.731003    171.509995    178.102997    178.102997   \n",
       "25%      639.860992    648.488007    631.771973    640.134003    640.134003   \n",
       "50%     6153.160156   6298.189941   5903.234375   6162.479980   6162.479980   \n",
       "75%     9725.666016   9930.312012   9531.005859   9729.562988   9729.562988   \n",
       "max    63523.753906  64863.097656  62208.964844  63503.457031  63503.457031   \n",
       "\n",
       "             Volume  \n",
       "count  2.451000e+03  \n",
       "mean   1.405968e+10  \n",
       "std    2.005808e+10  \n",
       "min    7.860650e+06  \n",
       "25%    8.700620e+07  \n",
       "50%    4.922540e+09  \n",
       "75%    2.240453e+10  \n",
       "max    3.509679e+11  "
      ]
     },
     "execution_count": 8,
     "metadata": {},
     "output_type": "execute_result"
    }
   ],
   "source": [
    "aapl.describe()"
   ]
  },
  {
   "cell_type": "code",
   "execution_count": 9,
   "metadata": {},
   "outputs": [
    {
     "name": "stdout",
     "output_type": "stream",
     "text": [
      "<class 'pandas.core.frame.DataFrame'>\n",
      "DatetimeIndex: 2451 entries, 2014-12-31 to 2021-09-19\n",
      "Data columns (total 6 columns):\n",
      " #   Column     Non-Null Count  Dtype  \n",
      "---  ------     --------------  -----  \n",
      " 0   Open       2451 non-null   float64\n",
      " 1   High       2451 non-null   float64\n",
      " 2   Low        2451 non-null   float64\n",
      " 3   Close      2451 non-null   float64\n",
      " 4   Adj Close  2451 non-null   float64\n",
      " 5   Volume     2451 non-null   int64  \n",
      "dtypes: float64(5), int64(1)\n",
      "memory usage: 134.0 KB\n"
     ]
    }
   ],
   "source": [
    "aapl.info()"
   ]
  },
  {
   "cell_type": "code",
   "execution_count": 10,
   "metadata": {},
   "outputs": [
    {
     "data": {
      "image/png": "[encoded data removed]",
      "text/plain": [
       "<Figure size 432x288 with 1 Axes>"
      ]
     },
     "metadata": {
      "needs_background": "light"
     },
     "output_type": "display_data"
    }
   ],
   "source": [
    "aapl_daily_returns = (aapl['Adj Close'].pct_change()+1).cumprod()\n",
    "aapl_daily_returns.plot()\n",
    "plt.title(\"Adjusted Close Price\", fontsize=16)\n",
    "# Define the labels for x-axis and y-axis\n",
    "plt.ylabel('Price', fontsize=14)\n",
    "plt.xlabel('Year', fontsize=14)\n",
    "plt.show()\n",
    "#aapl_monthly_returns = aapl['Adj Close'].resample('M').ffill().pct_change()"
   ]
  },
  {
   "cell_type": "code",
   "execution_count": 11,
   "metadata": {},
   "outputs": [
    {
     "data": {
      "text/plain": [
       "Date\n",
       "2014-12-31           NaN\n",
       "2015-01-01      0.981436\n",
       "2015-01-02      0.983882\n",
       "2015-01-03      0.877852\n",
       "2015-01-04      0.825112\n",
       "                 ...    \n",
       "2021-09-15    150.460343\n",
       "2021-09-16    149.232995\n",
       "2021-09-17    147.621967\n",
       "2021-09-18    150.778950\n",
       "2021-09-19    147.599166\n",
       "Name: Adj Close, Length: 2451, dtype: float64"
      ]
     },
     "execution_count": 11,
     "metadata": {},
     "output_type": "execute_result"
    }
   ],
   "source": [
    "aapl_daily_returns"
   ]
  },
  {
   "cell_type": "markdown",
   "metadata": {},
   "source": [
    "A nice tutorial on financial data analysis: https://www.codingfinance.com/post/2018-04-03-calc-returns-py/\n",
    "\n",
    "Calculating the daily and monthly returns for individual stock:\n",
    "\n",
    "Once we downloaded the stock prices from yahoo finance, the next thing to do is to calculate the returns. We will again use pandas package to do the calculations. We have already downloaded the price data for AAPL above, if you haven’t done that then see the above section. We will calculate the monthly and daily price returns.\n",
    "\n",
    "aapl_daily_returns = aapl['Adj Close'].pct_change()\n",
    "\n",
    "aapl_monthly_returns = aapl['Adj Close'].resample('M').ffill().pct_change()\n",
    "\n",
    "Calculating the cumulative returns for individual stock:\n",
    "\n",
    "Plotting the daily and monthly returns are useful for understanding the daily and monthly volatility of the investment. To calculate the growth of our investment or, in other words, calculating the total returns from our investment, we need to calculate the cumulative returns from that investment. To calculate the cumulative returns we will use the cumprod() function.\n",
    "\n",
    "aapl_cum_returns = (aapl_daily_returns + 1).cumprod()\n",
    "\n",
    "Plot the data:\n",
    "\n",
    "fig = plt.figure()\n",
    "\n",
    "ax1 = fig.add_axes([0.1,0.1,0.8,0.8])\n",
    "\n",
    "ax1.plot(aapl_cum_returns)\n",
    "\n",
    "ax1.set_xlabel(\"Date\")\n",
    "\n",
    "ax1.set_ylabel(\"Percent\")\n",
    "\n",
    "ax1.set_title(\"AAPL daily returns data\")\n",
    "\n",
    "plt.show()\n",
    "\n",
    "Download Several Stocks"
   ]
  },
  {
   "cell_type": "markdown",
   "metadata": {},
   "source": [
    "## Download Several Stocks"
   ]
  },
  {
   "cell_type": "code",
   "execution_count": 23,
   "metadata": {},
   "outputs": [
    {
     "name": "stdout",
     "output_type": "stream",
     "text": [
      "[*********************100%***********************]  1 of 1 completed\n",
      "[*********************100%***********************]  1 of 1 completed\n",
      "[*********************100%***********************]  1 of 1 completed\n",
      "[*********************100%***********************]  1 of 1 completed\n",
      "[*********************100%***********************]  1 of 1 completed\n",
      "[*********************100%***********************]  1 of 1 completed\n",
      "[*********************100%***********************]  1 of 1 completed\n",
      "[*********************100%***********************]  1 of 1 completed\n",
      "[*********************100%***********************]  1 of 1 completed\n"
     ]
    },
    {
     "data": {
      "image/png": "[encoded data removed]",
      "text/plain": [
       "<Figure size 720x504 with 1 Axes>"
      ]
     },
     "metadata": {
      "needs_background": "light"
     },
     "output_type": "display_data"
    }
   ],
   "source": [
    "# Define the ticker list\n",
    "tickers_list = ['AAPL', 'WMT','TSLA', 'IBM', 'MU', 'BA', 'AXP','GOOG','MSFT']\n",
    "\n",
    "stock_data = pd.DataFrame(columns=tickers_list)\n",
    "# Fetch the data\n",
    "\n",
    "for ticker in tickers_list:\n",
    "    stock_data[ticker] = yf.download(ticker, '2019-1-1', '2021-09-20')['Adj Close']\n",
    "# Print first 5 rows of the data\n",
    "#stock_data.head()\n",
    "\n",
    "\n",
    "# Plot all the close prices\n",
    "# the cumulative returns for individual stocks\n",
    "((stock_data.pct_change()+1).cumprod()).plot(figsize=(10, 7), linewidth=2.5)\n",
    "# Show the legend\n",
    "plt.legend()\n",
    "# Define the label for the title of the figure\n",
    "plt.title(\"Adjusted Close Price\", fontsize=16)\n",
    "# Define the labels for x-axis and y-axis\n",
    "plt.ylabel('Return', fontsize=14)\n",
    "plt.xlabel('Year', fontsize=14)\n",
    "# Plot the grid lines\n",
    "plt.grid(which=\"major\", color='k', linestyle='-.', linewidth=0.5)\n",
    "plt.show()\n",
    "\n",
    "#plt.savefig('foo.png', transparent=True)"
   ]
  },
  {
   "cell_type": "markdown",
   "metadata": {},
   "source": [
    "## Download Stock Market Data using Pandas DataReader"
   ]
  },
  {
   "cell_type": "code",
   "execution_count": 17,
   "metadata": {},
   "outputs": [],
   "source": [
    "wb.DataReader??"
   ]
  },
  {
   "cell_type": "code",
   "execution_count": 50,
   "metadata": {},
   "outputs": [
    {
     "name": "stdout",
     "output_type": "stream",
     "text": [
      "[*********************100%***********************]  4 of 4 completed\n"
     ]
    }
   ],
   "source": [
    "#import datetime as dt\n",
    "import datetime\n",
    "start = '2021-6-20'\n",
    "end = '2021-7-20'\n",
    "\n",
    "tickers = ['CSCO','AXP','HD','PG']\n",
    "#tickers =['AAPL', 'WMT','TSLA', 'IBM', 'MU', 'BA', 'AXP','GOOG','MSFT']\n",
    "start = datetime.datetime(2021,1,1)\n",
    "end = datetime.datetime(2021,9,20)\n",
    "stock_df = yf.download(tickers,start=start,end = end, interval='1d')\n",
    "#thelen = len(tickers)\n",
    "\n",
    "#price_data = []\n",
    "#for ticker in tickers:\n",
    "    #prices = wb.DataReader(ticker, start = start, end = end, data_source='quandl', api_key= 'UkbqzWBXjDdtEMgVASxH')[['AdjClose']]\n",
    "    #price_data.append(prices.assign(ticker=ticker)[['ticker', 'AdjClose']])\n",
    "\n",
    "#stock_df = pd.concat(price_data)\n",
    "#stock_df.dtypes\n",
    "#stock_df.head()\n",
    "#stock_df.shape"
   ]
  },
  {
   "cell_type": "code",
   "execution_count": 51,
   "metadata": {},
   "outputs": [
    {
     "data": {
      "text/html": [
       "<div>\n",
       "<style scoped>\n",
       "    .dataframe tbody tr th:only-of-type {\n",
       "        vertical-align: middle;\n",
       "    }\n",
       "\n",
       "    .dataframe tbody tr th {\n",
       "        vertical-align: top;\n",
       "    }\n",
       "\n",
       "    .dataframe thead tr th {\n",
       "        text-align: left;\n",
       "    }\n",
       "\n",
       "    .dataframe thead tr:last-of-type th {\n",
       "        text-align: right;\n",
       "    }\n",
       "</style>\n",
       "<table border=\"1\" class=\"dataframe\">\n",
       "  <thead>\n",
       "    <tr>\n",
       "      <th></th>\n",
       "      <th colspan=\"4\" halign=\"left\">Adj Close</th>\n",
       "      <th colspan=\"4\" halign=\"left\">Close</th>\n",
       "      <th colspan=\"4\" halign=\"left\">High</th>\n",
       "      <th colspan=\"4\" halign=\"left\">Low</th>\n",
       "      <th colspan=\"4\" halign=\"left\">Open</th>\n",
       "      <th colspan=\"4\" halign=\"left\">Volume</th>\n",
       "    </tr>\n",
       "    <tr>\n",
       "      <th></th>\n",
       "      <th>AXP</th>\n",
       "      <th>CSCO</th>\n",
       "      <th>HD</th>\n",
       "      <th>PG</th>\n",
       "      <th>AXP</th>\n",
       "      <th>CSCO</th>\n",
       "      <th>HD</th>\n",
       "      <th>PG</th>\n",
       "      <th>AXP</th>\n",
       "      <th>CSCO</th>\n",
       "      <th>HD</th>\n",
       "      <th>PG</th>\n",
       "      <th>AXP</th>\n",
       "      <th>CSCO</th>\n",
       "      <th>HD</th>\n",
       "      <th>PG</th>\n",
       "      <th>AXP</th>\n",
       "      <th>CSCO</th>\n",
       "      <th>HD</th>\n",
       "      <th>PG</th>\n",
       "      <th>AXP</th>\n",
       "      <th>CSCO</th>\n",
       "      <th>HD</th>\n",
       "      <th>PG</th>\n",
       "    </tr>\n",
       "    <tr>\n",
       "      <th>Date</th>\n",
       "      <th></th>\n",
       "      <th></th>\n",
       "      <th></th>\n",
       "      <th></th>\n",
       "      <th></th>\n",
       "      <th></th>\n",
       "      <th></th>\n",
       "      <th></th>\n",
       "      <th></th>\n",
       "      <th></th>\n",
       "      <th></th>\n",
       "      <th></th>\n",
       "      <th></th>\n",
       "      <th></th>\n",
       "      <th></th>\n",
       "      <th></th>\n",
       "      <th></th>\n",
       "      <th></th>\n",
       "      <th></th>\n",
       "      <th></th>\n",
       "      <th></th>\n",
       "      <th></th>\n",
       "      <th></th>\n",
       "      <th></th>\n",
       "    </tr>\n",
       "  </thead>\n",
       "  <tbody>\n",
       "    <tr>\n",
       "      <th>2020-12-31</th>\n",
       "      <td>119.813828</td>\n",
       "      <td>43.768875</td>\n",
       "      <td>261.260590</td>\n",
       "      <td>136.567596</td>\n",
       "      <td>120.910004</td>\n",
       "      <td>44.750000</td>\n",
       "      <td>265.619995</td>\n",
       "      <td>139.139999</td>\n",
       "      <td>121.059998</td>\n",
       "      <td>44.840000</td>\n",
       "      <td>265.950012</td>\n",
       "      <td>139.289993</td>\n",
       "      <td>119.160004</td>\n",
       "      <td>44.160000</td>\n",
       "      <td>263.579987</td>\n",
       "      <td>137.389999</td>\n",
       "      <td>119.709999</td>\n",
       "      <td>44.380001</td>\n",
       "      <td>265.570007</td>\n",
       "      <td>138.309998</td>\n",
       "      <td>1747800</td>\n",
       "      <td>15105500</td>\n",
       "      <td>2607900</td>\n",
       "      <td>4076400</td>\n",
       "    </tr>\n",
       "    <tr>\n",
       "      <th>2021-01-04</th>\n",
       "      <td>116.969841</td>\n",
       "      <td>43.344891</td>\n",
       "      <td>259.588531</td>\n",
       "      <td>135.272003</td>\n",
       "      <td>118.040001</td>\n",
       "      <td>43.959999</td>\n",
       "      <td>263.920013</td>\n",
       "      <td>137.820007</td>\n",
       "      <td>121.800003</td>\n",
       "      <td>44.369999</td>\n",
       "      <td>266.440002</td>\n",
       "      <td>139.860001</td>\n",
       "      <td>116.849998</td>\n",
       "      <td>43.349998</td>\n",
       "      <td>261.059998</td>\n",
       "      <td>136.350006</td>\n",
       "      <td>121.300003</td>\n",
       "      <td>44.310001</td>\n",
       "      <td>266.010010</td>\n",
       "      <td>139.660004</td>\n",
       "      <td>3472100</td>\n",
       "      <td>24392500</td>\n",
       "      <td>5002000</td>\n",
       "      <td>8330900</td>\n",
       "    </tr>\n",
       "    <tr>\n",
       "      <th>2021-01-05</th>\n",
       "      <td>117.594131</td>\n",
       "      <td>43.364609</td>\n",
       "      <td>261.683563</td>\n",
       "      <td>136.135727</td>\n",
       "      <td>118.669998</td>\n",
       "      <td>43.980000</td>\n",
       "      <td>266.049988</td>\n",
       "      <td>138.699997</td>\n",
       "      <td>119.279999</td>\n",
       "      <td>44.070000</td>\n",
       "      <td>266.529999</td>\n",
       "      <td>138.919998</td>\n",
       "      <td>117.099998</td>\n",
       "      <td>43.380001</td>\n",
       "      <td>262.260010</td>\n",
       "      <td>136.270004</td>\n",
       "      <td>118.260002</td>\n",
       "      <td>43.680000</td>\n",
       "      <td>262.660004</td>\n",
       "      <td>137.990005</td>\n",
       "      <td>2112700</td>\n",
       "      <td>17763700</td>\n",
       "      <td>3822600</td>\n",
       "      <td>6856400</td>\n",
       "    </tr>\n",
       "    <tr>\n",
       "      <th>2021-01-06</th>\n",
       "      <td>121.944321</td>\n",
       "      <td>43.778736</td>\n",
       "      <td>263.178619</td>\n",
       "      <td>137.568741</td>\n",
       "      <td>123.059998</td>\n",
       "      <td>44.400002</td>\n",
       "      <td>267.570007</td>\n",
       "      <td>140.160004</td>\n",
       "      <td>124.730003</td>\n",
       "      <td>44.869999</td>\n",
       "      <td>269.769989</td>\n",
       "      <td>141.039993</td>\n",
       "      <td>120.809998</td>\n",
       "      <td>43.889999</td>\n",
       "      <td>261.869995</td>\n",
       "      <td>138.600006</td>\n",
       "      <td>121.000000</td>\n",
       "      <td>44.130001</td>\n",
       "      <td>264.059998</td>\n",
       "      <td>138.770004</td>\n",
       "      <td>5861500</td>\n",
       "      <td>21823100</td>\n",
       "      <td>3949200</td>\n",
       "      <td>10578000</td>\n",
       "    </tr>\n",
       "    <tr>\n",
       "      <th>2021-01-07</th>\n",
       "      <td>120.979752</td>\n",
       "      <td>44.330894</td>\n",
       "      <td>261.890106</td>\n",
       "      <td>136.282959</td>\n",
       "      <td>121.660004</td>\n",
       "      <td>44.959999</td>\n",
       "      <td>266.260010</td>\n",
       "      <td>138.850006</td>\n",
       "      <td>125.690002</td>\n",
       "      <td>45.110001</td>\n",
       "      <td>268.779999</td>\n",
       "      <td>140.130005</td>\n",
       "      <td>117.349998</td>\n",
       "      <td>44.169998</td>\n",
       "      <td>266.170013</td>\n",
       "      <td>138.039993</td>\n",
       "      <td>124.099998</td>\n",
       "      <td>44.200001</td>\n",
       "      <td>266.950012</td>\n",
       "      <td>139.750000</td>\n",
       "      <td>8696600</td>\n",
       "      <td>18218800</td>\n",
       "      <td>3833200</td>\n",
       "      <td>7355400</td>\n",
       "    </tr>\n",
       "    <tr>\n",
       "      <th>...</th>\n",
       "      <td>...</td>\n",
       "      <td>...</td>\n",
       "      <td>...</td>\n",
       "      <td>...</td>\n",
       "      <td>...</td>\n",
       "      <td>...</td>\n",
       "      <td>...</td>\n",
       "      <td>...</td>\n",
       "      <td>...</td>\n",
       "      <td>...</td>\n",
       "      <td>...</td>\n",
       "      <td>...</td>\n",
       "      <td>...</td>\n",
       "      <td>...</td>\n",
       "      <td>...</td>\n",
       "      <td>...</td>\n",
       "      <td>...</td>\n",
       "      <td>...</td>\n",
       "      <td>...</td>\n",
       "      <td>...</td>\n",
       "      <td>...</td>\n",
       "      <td>...</td>\n",
       "      <td>...</td>\n",
       "      <td>...</td>\n",
       "    </tr>\n",
       "    <tr>\n",
       "      <th>2021-09-13</th>\n",
       "      <td>161.449997</td>\n",
       "      <td>58.099998</td>\n",
       "      <td>335.450012</td>\n",
       "      <td>145.679993</td>\n",
       "      <td>161.449997</td>\n",
       "      <td>58.099998</td>\n",
       "      <td>335.450012</td>\n",
       "      <td>145.679993</td>\n",
       "      <td>161.800003</td>\n",
       "      <td>58.529999</td>\n",
       "      <td>337.149994</td>\n",
       "      <td>147.229996</td>\n",
       "      <td>159.750000</td>\n",
       "      <td>57.730000</td>\n",
       "      <td>332.750000</td>\n",
       "      <td>144.850006</td>\n",
       "      <td>160.639999</td>\n",
       "      <td>58.160000</td>\n",
       "      <td>334.950012</td>\n",
       "      <td>144.850006</td>\n",
       "      <td>3192500</td>\n",
       "      <td>13553200</td>\n",
       "      <td>3908700</td>\n",
       "      <td>9952500</td>\n",
       "    </tr>\n",
       "    <tr>\n",
       "      <th>2021-09-14</th>\n",
       "      <td>159.479996</td>\n",
       "      <td>57.869999</td>\n",
       "      <td>333.119995</td>\n",
       "      <td>145.429993</td>\n",
       "      <td>159.479996</td>\n",
       "      <td>57.869999</td>\n",
       "      <td>333.119995</td>\n",
       "      <td>145.429993</td>\n",
       "      <td>165.830002</td>\n",
       "      <td>58.470001</td>\n",
       "      <td>337.489990</td>\n",
       "      <td>146.360001</td>\n",
       "      <td>158.779999</td>\n",
       "      <td>57.660000</td>\n",
       "      <td>332.420013</td>\n",
       "      <td>144.949997</td>\n",
       "      <td>162.679993</td>\n",
       "      <td>58.240002</td>\n",
       "      <td>336.029999</td>\n",
       "      <td>146.130005</td>\n",
       "      <td>4281500</td>\n",
       "      <td>12810300</td>\n",
       "      <td>2857200</td>\n",
       "      <td>5831800</td>\n",
       "    </tr>\n",
       "    <tr>\n",
       "      <th>2021-09-15</th>\n",
       "      <td>161.339996</td>\n",
       "      <td>57.560001</td>\n",
       "      <td>333.369995</td>\n",
       "      <td>145.119995</td>\n",
       "      <td>161.339996</td>\n",
       "      <td>57.560001</td>\n",
       "      <td>333.369995</td>\n",
       "      <td>145.119995</td>\n",
       "      <td>162.309998</td>\n",
       "      <td>59.599998</td>\n",
       "      <td>334.670013</td>\n",
       "      <td>145.770004</td>\n",
       "      <td>159.210007</td>\n",
       "      <td>57.060001</td>\n",
       "      <td>330.100006</td>\n",
       "      <td>144.740005</td>\n",
       "      <td>160.020004</td>\n",
       "      <td>57.779999</td>\n",
       "      <td>333.359985</td>\n",
       "      <td>145.350006</td>\n",
       "      <td>2933100</td>\n",
       "      <td>37524600</td>\n",
       "      <td>2875500</td>\n",
       "      <td>6237100</td>\n",
       "    </tr>\n",
       "    <tr>\n",
       "      <th>2021-09-16</th>\n",
       "      <td>162.630005</td>\n",
       "      <td>57.330002</td>\n",
       "      <td>336.390015</td>\n",
       "      <td>144.110001</td>\n",
       "      <td>162.630005</td>\n",
       "      <td>57.330002</td>\n",
       "      <td>336.390015</td>\n",
       "      <td>144.110001</td>\n",
       "      <td>164.500000</td>\n",
       "      <td>58.820000</td>\n",
       "      <td>337.839996</td>\n",
       "      <td>145.190002</td>\n",
       "      <td>162.199997</td>\n",
       "      <td>57.130001</td>\n",
       "      <td>334.170013</td>\n",
       "      <td>142.820007</td>\n",
       "      <td>163.100006</td>\n",
       "      <td>58.310001</td>\n",
       "      <td>334.720001</td>\n",
       "      <td>144.839996</td>\n",
       "      <td>2765000</td>\n",
       "      <td>24029600</td>\n",
       "      <td>3043800</td>\n",
       "      <td>6142100</td>\n",
       "    </tr>\n",
       "    <tr>\n",
       "      <th>2021-09-17</th>\n",
       "      <td>163.919998</td>\n",
       "      <td>56.849998</td>\n",
       "      <td>335.670013</td>\n",
       "      <td>144.339996</td>\n",
       "      <td>163.919998</td>\n",
       "      <td>56.849998</td>\n",
       "      <td>335.670013</td>\n",
       "      <td>144.339996</td>\n",
       "      <td>164.250000</td>\n",
       "      <td>57.450001</td>\n",
       "      <td>339.649994</td>\n",
       "      <td>146.279999</td>\n",
       "      <td>161.570007</td>\n",
       "      <td>56.470001</td>\n",
       "      <td>334.950012</td>\n",
       "      <td>144.229996</td>\n",
       "      <td>161.570007</td>\n",
       "      <td>57.389999</td>\n",
       "      <td>334.950012</td>\n",
       "      <td>144.369995</td>\n",
       "      <td>6390600</td>\n",
       "      <td>40211200</td>\n",
       "      <td>7098400</td>\n",
       "      <td>18737400</td>\n",
       "    </tr>\n",
       "  </tbody>\n",
       "</table>\n",
       "<p>180 rows × 24 columns</p>\n",
       "</div>"
      ],
      "text/plain": [
       "             Adj Close                                          Close  \\\n",
       "                   AXP       CSCO          HD          PG         AXP   \n",
       "Date                                                                    \n",
       "2020-12-31  119.813828  43.768875  261.260590  136.567596  120.910004   \n",
       "2021-01-04  116.969841  43.344891  259.588531  135.272003  118.040001   \n",
       "2021-01-05  117.594131  43.364609  261.683563  136.135727  118.669998   \n",
       "2021-01-06  121.944321  43.778736  263.178619  137.568741  123.059998   \n",
       "2021-01-07  120.979752  44.330894  261.890106  136.282959  121.660004   \n",
       "...                ...        ...         ...         ...         ...   \n",
       "2021-09-13  161.449997  58.099998  335.450012  145.679993  161.449997   \n",
       "2021-09-14  159.479996  57.869999  333.119995  145.429993  159.479996   \n",
       "2021-09-15  161.339996  57.560001  333.369995  145.119995  161.339996   \n",
       "2021-09-16  162.630005  57.330002  336.390015  144.110001  162.630005   \n",
       "2021-09-17  163.919998  56.849998  335.670013  144.339996  163.919998   \n",
       "\n",
       "                                                     High             \\\n",
       "                 CSCO          HD          PG         AXP       CSCO   \n",
       "Date                                                                   \n",
       "2020-12-31  44.750000  265.619995  139.139999  121.059998  44.840000   \n",
       "2021-01-04  43.959999  263.920013  137.820007  121.800003  44.369999   \n",
       "2021-01-05  43.980000  266.049988  138.699997  119.279999  44.070000   \n",
       "2021-01-06  44.400002  267.570007  140.160004  124.730003  44.869999   \n",
       "2021-01-07  44.959999  266.260010  138.850006  125.690002  45.110001   \n",
       "...               ...         ...         ...         ...        ...   \n",
       "2021-09-13  58.099998  335.450012  145.679993  161.800003  58.529999   \n",
       "2021-09-14  57.869999  333.119995  145.429993  165.830002  58.470001   \n",
       "2021-09-15  57.560001  333.369995  145.119995  162.309998  59.599998   \n",
       "2021-09-16  57.330002  336.390015  144.110001  164.500000  58.820000   \n",
       "2021-09-17  56.849998  335.670013  144.339996  164.250000  57.450001   \n",
       "\n",
       "                                           Low                         \\\n",
       "                    HD          PG         AXP       CSCO          HD   \n",
       "Date                                                                    \n",
       "2020-12-31  265.950012  139.289993  119.160004  44.160000  263.579987   \n",
       "2021-01-04  266.440002  139.860001  116.849998  43.349998  261.059998   \n",
       "2021-01-05  266.529999  138.919998  117.099998  43.380001  262.260010   \n",
       "2021-01-06  269.769989  141.039993  120.809998  43.889999  261.869995   \n",
       "2021-01-07  268.779999  140.130005  117.349998  44.169998  266.170013   \n",
       "...                ...         ...         ...        ...         ...   \n",
       "2021-09-13  337.149994  147.229996  159.750000  57.730000  332.750000   \n",
       "2021-09-14  337.489990  146.360001  158.779999  57.660000  332.420013   \n",
       "2021-09-15  334.670013  145.770004  159.210007  57.060001  330.100006   \n",
       "2021-09-16  337.839996  145.190002  162.199997  57.130001  334.170013   \n",
       "2021-09-17  339.649994  146.279999  161.570007  56.470001  334.950012   \n",
       "\n",
       "                              Open                                     \\\n",
       "                    PG         AXP       CSCO          HD          PG   \n",
       "Date                                                                    \n",
       "2020-12-31  137.389999  119.709999  44.380001  265.570007  138.309998   \n",
       "2021-01-04  136.350006  121.300003  44.310001  266.010010  139.660004   \n",
       "2021-01-05  136.270004  118.260002  43.680000  262.660004  137.990005   \n",
       "2021-01-06  138.600006  121.000000  44.130001  264.059998  138.770004   \n",
       "2021-01-07  138.039993  124.099998  44.200001  266.950012  139.750000   \n",
       "...                ...         ...        ...         ...         ...   \n",
       "2021-09-13  144.850006  160.639999  58.160000  334.950012  144.850006   \n",
       "2021-09-14  144.949997  162.679993  58.240002  336.029999  146.130005   \n",
       "2021-09-15  144.740005  160.020004  57.779999  333.359985  145.350006   \n",
       "2021-09-16  142.820007  163.100006  58.310001  334.720001  144.839996   \n",
       "2021-09-17  144.229996  161.570007  57.389999  334.950012  144.369995   \n",
       "\n",
       "             Volume                               \n",
       "                AXP      CSCO       HD        PG  \n",
       "Date                                              \n",
       "2020-12-31  1747800  15105500  2607900   4076400  \n",
       "2021-01-04  3472100  24392500  5002000   8330900  \n",
       "2021-01-05  2112700  17763700  3822600   6856400  \n",
       "2021-01-06  5861500  21823100  3949200  10578000  \n",
       "2021-01-07  8696600  18218800  3833200   7355400  \n",
       "...             ...       ...      ...       ...  \n",
       "2021-09-13  3192500  13553200  3908700   9952500  \n",
       "2021-09-14  4281500  12810300  2857200   5831800  \n",
       "2021-09-15  2933100  37524600  2875500   6237100  \n",
       "2021-09-16  2765000  24029600  3043800   6142100  \n",
       "2021-09-17  6390600  40211200  7098400  18737400  \n",
       "\n",
       "[180 rows x 24 columns]"
      ]
     },
     "execution_count": 51,
     "metadata": {},
     "output_type": "execute_result"
    }
   ],
   "source": [
    "\n",
    "stock_df"
   ]
  },
  {
   "cell_type": "code",
   "execution_count": 52,
   "metadata": {},
   "outputs": [],
   "source": [
    "stock_df=stock_df['Adj Close']"
   ]
  },
  {
   "cell_type": "code",
   "execution_count": 53,
   "metadata": {},
   "outputs": [
    {
     "data": {
      "text/html": [
       "<div>\n",
       "<style scoped>\n",
       "    .dataframe tbody tr th:only-of-type {\n",
       "        vertical-align: middle;\n",
       "    }\n",
       "\n",
       "    .dataframe tbody tr th {\n",
       "        vertical-align: top;\n",
       "    }\n",
       "\n",
       "    .dataframe thead th {\n",
       "        text-align: right;\n",
       "    }\n",
       "</style>\n",
       "<table border=\"1\" class=\"dataframe\">\n",
       "  <thead>\n",
       "    <tr style=\"text-align: right;\">\n",
       "      <th></th>\n",
       "      <th>AXP</th>\n",
       "      <th>CSCO</th>\n",
       "      <th>HD</th>\n",
       "      <th>PG</th>\n",
       "    </tr>\n",
       "    <tr>\n",
       "      <th>Date</th>\n",
       "      <th></th>\n",
       "      <th></th>\n",
       "      <th></th>\n",
       "      <th></th>\n",
       "    </tr>\n",
       "  </thead>\n",
       "  <tbody>\n",
       "    <tr>\n",
       "      <th>2020-12-31</th>\n",
       "      <td>119.813828</td>\n",
       "      <td>43.768875</td>\n",
       "      <td>261.260590</td>\n",
       "      <td>136.567596</td>\n",
       "    </tr>\n",
       "    <tr>\n",
       "      <th>2021-01-04</th>\n",
       "      <td>116.969841</td>\n",
       "      <td>43.344891</td>\n",
       "      <td>259.588531</td>\n",
       "      <td>135.272003</td>\n",
       "    </tr>\n",
       "    <tr>\n",
       "      <th>2021-01-05</th>\n",
       "      <td>117.594131</td>\n",
       "      <td>43.364609</td>\n",
       "      <td>261.683563</td>\n",
       "      <td>136.135727</td>\n",
       "    </tr>\n",
       "    <tr>\n",
       "      <th>2021-01-06</th>\n",
       "      <td>121.944321</td>\n",
       "      <td>43.778736</td>\n",
       "      <td>263.178619</td>\n",
       "      <td>137.568741</td>\n",
       "    </tr>\n",
       "    <tr>\n",
       "      <th>2021-01-07</th>\n",
       "      <td>120.979752</td>\n",
       "      <td>44.330894</td>\n",
       "      <td>261.890106</td>\n",
       "      <td>136.282959</td>\n",
       "    </tr>\n",
       "    <tr>\n",
       "      <th>...</th>\n",
       "      <td>...</td>\n",
       "      <td>...</td>\n",
       "      <td>...</td>\n",
       "      <td>...</td>\n",
       "    </tr>\n",
       "    <tr>\n",
       "      <th>2021-09-13</th>\n",
       "      <td>161.449997</td>\n",
       "      <td>58.099998</td>\n",
       "      <td>335.450012</td>\n",
       "      <td>145.679993</td>\n",
       "    </tr>\n",
       "    <tr>\n",
       "      <th>2021-09-14</th>\n",
       "      <td>159.479996</td>\n",
       "      <td>57.869999</td>\n",
       "      <td>333.119995</td>\n",
       "      <td>145.429993</td>\n",
       "    </tr>\n",
       "    <tr>\n",
       "      <th>2021-09-15</th>\n",
       "      <td>161.339996</td>\n",
       "      <td>57.560001</td>\n",
       "      <td>333.369995</td>\n",
       "      <td>145.119995</td>\n",
       "    </tr>\n",
       "    <tr>\n",
       "      <th>2021-09-16</th>\n",
       "      <td>162.630005</td>\n",
       "      <td>57.330002</td>\n",
       "      <td>336.390015</td>\n",
       "      <td>144.110001</td>\n",
       "    </tr>\n",
       "    <tr>\n",
       "      <th>2021-09-17</th>\n",
       "      <td>163.919998</td>\n",
       "      <td>56.849998</td>\n",
       "      <td>335.670013</td>\n",
       "      <td>144.339996</td>\n",
       "    </tr>\n",
       "  </tbody>\n",
       "</table>\n",
       "<p>180 rows × 4 columns</p>\n",
       "</div>"
      ],
      "text/plain": [
       "                   AXP       CSCO          HD          PG\n",
       "Date                                                     \n",
       "2020-12-31  119.813828  43.768875  261.260590  136.567596\n",
       "2021-01-04  116.969841  43.344891  259.588531  135.272003\n",
       "2021-01-05  117.594131  43.364609  261.683563  136.135727\n",
       "2021-01-06  121.944321  43.778736  263.178619  137.568741\n",
       "2021-01-07  120.979752  44.330894  261.890106  136.282959\n",
       "...                ...        ...         ...         ...\n",
       "2021-09-13  161.449997  58.099998  335.450012  145.679993\n",
       "2021-09-14  159.479996  57.869999  333.119995  145.429993\n",
       "2021-09-15  161.339996  57.560001  333.369995  145.119995\n",
       "2021-09-16  162.630005  57.330002  336.390015  144.110001\n",
       "2021-09-17  163.919998  56.849998  335.670013  144.339996\n",
       "\n",
       "[180 rows x 4 columns]"
      ]
     },
     "execution_count": 53,
     "metadata": {},
     "output_type": "execute_result"
    }
   ],
   "source": [
    "stock_df"
   ]
  },
  {
   "cell_type": "code",
   "execution_count": 54,
   "metadata": {},
   "outputs": [],
   "source": [
    "table=stock_df"
   ]
  },
  {
   "cell_type": "code",
   "execution_count": 55,
   "metadata": {},
   "outputs": [
    {
     "data": {
      "text/plain": [
       "(180, 4)"
      ]
     },
     "execution_count": 55,
     "metadata": {},
     "output_type": "execute_result"
    }
   ],
   "source": [
    "table.shape"
   ]
  },
  {
   "cell_type": "code",
   "execution_count": 92,
   "metadata": {},
   "outputs": [
    {
     "data": {
      "text/plain": [
       "AXP     0\n",
       "CSCO    0\n",
       "HD      0\n",
       "PG      0\n",
       "dtype: int64"
      ]
     },
     "execution_count": 92,
     "metadata": {},
     "output_type": "execute_result"
    }
   ],
   "source": [
    "table.isnull().sum()"
   ]
  },
  {
   "cell_type": "code",
   "execution_count": 56,
   "metadata": {},
   "outputs": [
    {
     "data": {
      "text/html": [
       "<div>\n",
       "<style scoped>\n",
       "    .dataframe tbody tr th:only-of-type {\n",
       "        vertical-align: middle;\n",
       "    }\n",
       "\n",
       "    .dataframe tbody tr th {\n",
       "        vertical-align: top;\n",
       "    }\n",
       "\n",
       "    .dataframe thead th {\n",
       "        text-align: right;\n",
       "    }\n",
       "</style>\n",
       "<table border=\"1\" class=\"dataframe\">\n",
       "  <thead>\n",
       "    <tr style=\"text-align: right;\">\n",
       "      <th></th>\n",
       "      <th>AXP</th>\n",
       "      <th>CSCO</th>\n",
       "      <th>HD</th>\n",
       "      <th>PG</th>\n",
       "    </tr>\n",
       "    <tr>\n",
       "      <th>Date</th>\n",
       "      <th></th>\n",
       "      <th></th>\n",
       "      <th></th>\n",
       "      <th></th>\n",
       "    </tr>\n",
       "  </thead>\n",
       "  <tbody>\n",
       "    <tr>\n",
       "      <th>2020-12-31</th>\n",
       "      <td>119.813828</td>\n",
       "      <td>43.768875</td>\n",
       "      <td>261.260590</td>\n",
       "      <td>136.567596</td>\n",
       "    </tr>\n",
       "    <tr>\n",
       "      <th>2021-01-04</th>\n",
       "      <td>116.969841</td>\n",
       "      <td>43.344891</td>\n",
       "      <td>259.588531</td>\n",
       "      <td>135.272003</td>\n",
       "    </tr>\n",
       "    <tr>\n",
       "      <th>2021-01-05</th>\n",
       "      <td>117.594131</td>\n",
       "      <td>43.364609</td>\n",
       "      <td>261.683563</td>\n",
       "      <td>136.135727</td>\n",
       "    </tr>\n",
       "    <tr>\n",
       "      <th>2021-01-06</th>\n",
       "      <td>121.944321</td>\n",
       "      <td>43.778736</td>\n",
       "      <td>263.178619</td>\n",
       "      <td>137.568741</td>\n",
       "    </tr>\n",
       "    <tr>\n",
       "      <th>2021-01-07</th>\n",
       "      <td>120.979752</td>\n",
       "      <td>44.330894</td>\n",
       "      <td>261.890106</td>\n",
       "      <td>136.282959</td>\n",
       "    </tr>\n",
       "    <tr>\n",
       "      <th>...</th>\n",
       "      <td>...</td>\n",
       "      <td>...</td>\n",
       "      <td>...</td>\n",
       "      <td>...</td>\n",
       "    </tr>\n",
       "    <tr>\n",
       "      <th>2021-09-13</th>\n",
       "      <td>161.449997</td>\n",
       "      <td>58.099998</td>\n",
       "      <td>335.450012</td>\n",
       "      <td>145.679993</td>\n",
       "    </tr>\n",
       "    <tr>\n",
       "      <th>2021-09-14</th>\n",
       "      <td>159.479996</td>\n",
       "      <td>57.869999</td>\n",
       "      <td>333.119995</td>\n",
       "      <td>145.429993</td>\n",
       "    </tr>\n",
       "    <tr>\n",
       "      <th>2021-09-15</th>\n",
       "      <td>161.339996</td>\n",
       "      <td>57.560001</td>\n",
       "      <td>333.369995</td>\n",
       "      <td>145.119995</td>\n",
       "    </tr>\n",
       "    <tr>\n",
       "      <th>2021-09-16</th>\n",
       "      <td>162.630005</td>\n",
       "      <td>57.330002</td>\n",
       "      <td>336.390015</td>\n",
       "      <td>144.110001</td>\n",
       "    </tr>\n",
       "    <tr>\n",
       "      <th>2021-09-17</th>\n",
       "      <td>163.919998</td>\n",
       "      <td>56.849998</td>\n",
       "      <td>335.670013</td>\n",
       "      <td>144.339996</td>\n",
       "    </tr>\n",
       "  </tbody>\n",
       "</table>\n",
       "<p>180 rows × 4 columns</p>\n",
       "</div>"
      ],
      "text/plain": [
       "                   AXP       CSCO          HD          PG\n",
       "Date                                                     \n",
       "2020-12-31  119.813828  43.768875  261.260590  136.567596\n",
       "2021-01-04  116.969841  43.344891  259.588531  135.272003\n",
       "2021-01-05  117.594131  43.364609  261.683563  136.135727\n",
       "2021-01-06  121.944321  43.778736  263.178619  137.568741\n",
       "2021-01-07  120.979752  44.330894  261.890106  136.282959\n",
       "...                ...        ...         ...         ...\n",
       "2021-09-13  161.449997  58.099998  335.450012  145.679993\n",
       "2021-09-14  159.479996  57.869999  333.119995  145.429993\n",
       "2021-09-15  161.339996  57.560001  333.369995  145.119995\n",
       "2021-09-16  162.630005  57.330002  336.390015  144.110001\n",
       "2021-09-17  163.919998  56.849998  335.670013  144.339996\n",
       "\n",
       "[180 rows x 4 columns]"
      ]
     },
     "execution_count": 56,
     "metadata": {},
     "output_type": "execute_result"
    }
   ],
   "source": [
    "table"
   ]
  },
  {
   "cell_type": "code",
   "execution_count": 57,
   "metadata": {},
   "outputs": [
    {
     "data": {
      "image/png": "[encoded data removed]",
      "text/plain": [
       "<Figure size 432x288 with 1 Axes>"
      ]
     },
     "metadata": {
      "needs_background": "light"
     },
     "output_type": "display_data"
    }
   ],
   "source": [
    "for column in table.columns:\n",
    "    f = table[column] \n",
    "    #f = ((f.pct_change()+1).cumprod())\n",
    "    f.plot(label=column);\n",
    "    plt.legend()\n",
    "    plt.ylabel('price in [USD]')\n",
    "\n",
    "plt.show()"
   ]
  },
  {
   "cell_type": "code",
   "execution_count": 58,
   "metadata": {},
   "outputs": [
    {
     "data": {
      "image/png": "[encoded data removed]",
      "text/plain": [
       "<Figure size 720x504 with 1 Axes>"
      ]
     },
     "metadata": {
      "needs_background": "light"
     },
     "output_type": "display_data"
    }
   ],
   "source": [
    "\n",
    "# Plot all the close prices\n",
    "# the cumulative returns for individual stocks\n",
    "((table.pct_change()+1).cumprod()).plot(figsize=(10, 7))\n",
    "# Show the legend\n",
    "plt.legend()\n",
    "# Define the label for the title of the figure\n",
    "plt.title(\"Adjusted Close Price\", fontsize=16)\n",
    "# Define the labels for x-axis and y-axis\n",
    "plt.ylabel('Price', fontsize=14)\n",
    "plt.xlabel('Year', fontsize=14)\n",
    "# Plot the grid lines\n",
    "plt.grid(which=\"major\", color='k', linestyle='-.', linewidth=0.5)\n",
    "plt.show()"
   ]
  },
  {
   "cell_type": "markdown",
   "metadata": {},
   "source": [
    "## Split the Data into Train/test subsets .. ONLY use IBM"
   ]
  },
  {
   "cell_type": "code",
   "execution_count": 59,
   "metadata": {},
   "outputs": [
    {
     "data": {
      "text/plain": [
       "<matplotlib.axes._subplots.AxesSubplot at 0x1c1c8835b48>"
      ]
     },
     "execution_count": 59,
     "metadata": {},
     "output_type": "execute_result"
    },
    {
     "data": {
      "image/png": "[encoded data removed]",
      "text/plain": [
       "<Figure size 432x288 with 1 Axes>"
      ]
     },
     "metadata": {
      "needs_background": "light"
     },
     "output_type": "display_data"
    }
   ],
   "source": [
    "data = stock_data['IBM']\n",
    "data.plot()"
   ]
  },
  {
   "cell_type": "code",
   "execution_count": 60,
   "metadata": {},
   "outputs": [
    {
     "name": "stdout",
     "output_type": "stream",
     "text": [
      "train shape: (400,)\n",
      "test shape:  (285,)\n",
      "Min x: 87.78524017333984\n",
      "Max x: 143.86331176757812\n"
     ]
    }
   ],
   "source": [
    "train_df = data[:400]#aapl['Adj Close'][:250]#df['Water Level (m)'][0:100]\n",
    "print('train shape:', train_df.shape)\n",
    "test_df = data[400:]#aapl['Adj Close'][250:]#df['Water Level (m)'][100:]\n",
    "print('test shape: ',test_df.shape)\n",
    "\n",
    "print(\"Min x:\", np.min(train_df))\n",
    "print(\"Max x:\", np.max(train_df))"
   ]
  },
  {
   "cell_type": "markdown",
   "metadata": {},
   "source": [
    "## Normalise the Data into values between 0 and 1"
   ]
  },
  {
   "cell_type": "code",
   "execution_count": 61,
   "metadata": {},
   "outputs": [],
   "source": [
    "\n",
    "## After this step train and test will become numpy matrices instead of pandas dataframes\n",
    "## NOTICE: we use the model that is fitted to the train data to scale the test data .. \n",
    "## very important to do it this way!\n",
    "\n",
    "x_scaler = MinMaxScaler()\n",
    "train = x_scaler.fit_transform(train_df.values.reshape(-1, 1))\n",
    "test = x_scaler.transform(test_df.values.reshape(-1, 1))"
   ]
  },
  {
   "cell_type": "code",
   "execution_count": 62,
   "metadata": {},
   "outputs": [
    {
     "name": "stdout",
     "output_type": "stream",
     "text": [
      "Min x: 0.0\n",
      "Max x: 0.9999999999999998\n"
     ]
    }
   ],
   "source": [
    "# make sure values are between 0-1\n",
    "print(\"Min x:\", np.min(train))\n",
    "print(\"Max x:\", np.max(train))"
   ]
  },
  {
   "cell_type": "markdown",
   "metadata": {},
   "source": [
    "### To Split Data into Sequences"
   ]
  },
  {
   "cell_type": "code",
   "execution_count": 63,
   "metadata": {},
   "outputs": [],
   "source": [
    "# split a univariate sequence into samples\n",
    "def split_sequence(sequence, n_steps):\n",
    "    X, y = [], []\n",
    "    for i in range(len(sequence)):\n",
    "        # find the end of this pattern\n",
    "        end_ix = i + n_steps\n",
    "        # check if we are beyond the sequence\n",
    "        if end_ix > len(sequence)-1:\n",
    "            break\n",
    "        # gather input and output parts of the pattern\n",
    "        seq_x, seq_y = sequence[i:end_ix], sequence[end_ix]\n",
    "        X.append(seq_x)\n",
    "        y.append(seq_y)\n",
    "    return np.array(X), np.array(y)"
   ]
  },
  {
   "cell_type": "markdown",
   "metadata": {},
   "source": [
    "## Create sequences for training data"
   ]
  },
  {
   "cell_type": "code",
   "execution_count": 64,
   "metadata": {},
   "outputs": [
    {
     "data": {
      "text/plain": [
       "(array([[1, 2, 3],\n",
       "        [2, 3, 4],\n",
       "        [3, 4, 5],\n",
       "        [4, 5, 6],\n",
       "        [5, 6, 7],\n",
       "        [6, 7, 8],\n",
       "        [7, 8, 9]]),\n",
       " array([ 4,  5,  6,  7,  8,  9, 10]))"
      ]
     },
     "execution_count": 64,
     "metadata": {},
     "output_type": "execute_result"
    }
   ],
   "source": [
    "\n",
    "seq = [1,2,3,4,5,6,7,8,9,10]\n",
    "steps = 3\n",
    "split_sequence(seq,steps)"
   ]
  },
  {
   "cell_type": "code",
   "execution_count": 65,
   "metadata": {},
   "outputs": [],
   "source": [
    "# define input sequence\n",
    "# choose a number of time steps\n",
    "n_steps = 5\n",
    "# split into samples\n",
    "X_train, y_train = split_sequence(train, n_steps)"
   ]
  },
  {
   "cell_type": "code",
   "execution_count": 66,
   "metadata": {},
   "outputs": [
    {
     "data": {
      "text/plain": [
       "array([[[0.20774122],\n",
       "        [0.2317643 ],\n",
       "        [0.19588613],\n",
       "        [0.26467808],\n",
       "        [0.2776255 ]],\n",
       "\n",
       "       [[0.2317643 ],\n",
       "        [0.19588613],\n",
       "        [0.26467808],\n",
       "        [0.2776255 ],\n",
       "        [0.3038319 ]],\n",
       "\n",
       "       [[0.19588613],\n",
       "        [0.26467808],\n",
       "        [0.2776255 ],\n",
       "        [0.3038319 ],\n",
       "        [0.31724734]],\n",
       "\n",
       "       ...,\n",
       "\n",
       "       [[0.58846423],\n",
       "        [0.56603306],\n",
       "        [0.54025426],\n",
       "        [0.54728476],\n",
       "        [0.51815805]],\n",
       "\n",
       "       [[0.56603306],\n",
       "        [0.54025426],\n",
       "        [0.54728476],\n",
       "        [0.51815805],\n",
       "        [0.53238679]],\n",
       "\n",
       "       [[0.54025426],\n",
       "        [0.54728476],\n",
       "        [0.51815805],\n",
       "        [0.53238679],\n",
       "        [0.49187723]]])"
      ]
     },
     "execution_count": 66,
     "metadata": {},
     "output_type": "execute_result"
    }
   ],
   "source": [
    "X_train"
   ]
  },
  {
   "cell_type": "markdown",
   "metadata": {},
   "source": [
    "**Create sequences for test data**"
   ]
  },
  {
   "cell_type": "code",
   "execution_count": 67,
   "metadata": {},
   "outputs": [],
   "source": [
    "\n",
    "# define test sequence\n",
    "# choose a number of time steps .. same as training!\n",
    "#n_steps = 5\n",
    "# split into samples\n",
    "X_test, y_test = split_sequence(test, n_steps)\n",
    "#X_test.shape"
   ]
  },
  {
   "cell_type": "markdown",
   "metadata": {},
   "source": [
    "**Data Shape suitable for feeding into TF/Keras**"
   ]
  },
  {
   "cell_type": "code",
   "execution_count": 68,
   "metadata": {},
   "outputs": [
    {
     "name": "stdout",
     "output_type": "stream",
     "text": [
      "(395, 5, 1)\n",
      "(280, 5, 1)\n"
     ]
    }
   ],
   "source": [
    "print(X_train.shape)\n",
    "print(X_test.shape)"
   ]
  },
  {
   "cell_type": "markdown",
   "metadata": {},
   "source": [
    "## Model Building and Fitting (RNN, LSTM and GRU)"
   ]
  },
  {
   "cell_type": "code",
   "execution_count": 69,
   "metadata": {},
   "outputs": [
    {
     "name": "stdout",
     "output_type": "stream",
     "text": [
      "Train on 316 samples, validate on 79 samples\n",
      "Epoch 1/100\n",
      "316/316 [==============================] - 2s 7ms/step - loss: 0.3966 - val_loss: 0.2100\n",
      "\n",
      "Epoch 00001: val_loss improved from inf to 0.21003, saving model to best_model.h5\n",
      "Epoch 2/100\n",
      "316/316 [==============================] - 0s 361us/step - loss: 0.3595 - val_loss: 0.1784\n",
      "\n",
      "Epoch 00002: val_loss improved from 0.21003 to 0.17840, saving model to best_model.h5\n",
      "Epoch 3/100\n",
      "316/316 [==============================] - 0s 316us/step - loss: 0.3114 - val_loss: 0.1383\n",
      "\n",
      "Epoch 00003: val_loss improved from 0.17840 to 0.13830, saving model to best_model.h5\n",
      "Epoch 4/100\n",
      "316/316 [==============================] - 0s 304us/step - loss: 0.2461 - val_loss: 0.0869\n",
      "\n",
      "Epoch 00004: val_loss improved from 0.13830 to 0.08686, saving model to best_model.h5\n",
      "Epoch 5/100\n",
      "316/316 [==============================] - 0s 326us/step - loss: 0.1586 - val_loss: 0.0283\n",
      "\n",
      "Epoch 00005: val_loss improved from 0.08686 to 0.02827, saving model to best_model.h5\n",
      "Epoch 6/100\n",
      "316/316 [==============================] - 0s 291us/step - loss: 0.0581 - val_loss: 0.0101\n",
      "\n",
      "Epoch 00006: val_loss improved from 0.02827 to 0.01013, saving model to best_model.h5\n",
      "Epoch 7/100\n",
      "316/316 [==============================] - 0s 348us/step - loss: 0.0224 - val_loss: 0.0428\n",
      "\n",
      "Epoch 00007: val_loss did not improve from 0.01013\n",
      "Epoch 8/100\n",
      "316/316 [==============================] - 0s 389us/step - loss: 0.0193 - val_loss: 0.0118\n",
      "\n",
      "Epoch 00008: val_loss did not improve from 0.01013\n",
      "Epoch 9/100\n",
      "316/316 [==============================] - 0s 316us/step - loss: 0.0166 - val_loss: 0.0116\n",
      "\n",
      "Epoch 00009: val_loss did not improve from 0.01013\n",
      "Epoch 10/100\n",
      "316/316 [==============================] - 0s 339us/step - loss: 0.0150 - val_loss: 0.0187\n",
      "\n",
      "Epoch 00010: val_loss did not improve from 0.01013\n",
      "Epoch 11/100\n",
      "316/316 [==============================] - 0s 361us/step - loss: 0.0141 - val_loss: 0.0145\n",
      "\n",
      "Epoch 00011: val_loss did not improve from 0.01013\n",
      "Epoch 12/100\n",
      "316/316 [==============================] - 0s 329us/step - loss: 0.0132 - val_loss: 0.0126\n",
      "\n",
      "Epoch 00012: val_loss did not improve from 0.01013\n",
      "Epoch 13/100\n",
      "316/316 [==============================] - 0s 329us/step - loss: 0.0124 - val_loss: 0.0133\n",
      "\n",
      "Epoch 00013: val_loss did not improve from 0.01013\n",
      "Epoch 14/100\n",
      "316/316 [==============================] - 0s 297us/step - loss: 0.0116 - val_loss: 0.0121\n",
      "\n",
      "Epoch 00014: val_loss did not improve from 0.01013\n",
      "Epoch 15/100\n",
      "316/316 [==============================] - 0s 313us/step - loss: 0.0109 - val_loss: 0.0108\n",
      "\n",
      "Epoch 00015: val_loss did not improve from 0.01013\n",
      "Epoch 16/100\n",
      "316/316 [==============================] - 0s 313us/step - loss: 0.0101 - val_loss: 0.0097\n",
      "\n",
      "Epoch 00016: val_loss improved from 0.01013 to 0.00974, saving model to best_model.h5\n",
      "Epoch 17/100\n",
      "316/316 [==============================] - 0s 332us/step - loss: 0.0094 - val_loss: 0.0087\n",
      "\n",
      "Epoch 00017: val_loss improved from 0.00974 to 0.00872, saving model to best_model.h5\n",
      "Epoch 18/100\n",
      "316/316 [==============================] - 0s 342us/step - loss: 0.0088 - val_loss: 0.0080\n",
      "\n",
      "Epoch 00018: val_loss improved from 0.00872 to 0.00805, saving model to best_model.h5\n",
      "Epoch 19/100\n",
      "316/316 [==============================] - 0s 342us/step - loss: 0.0083 - val_loss: 0.0068\n",
      "\n",
      "Epoch 00019: val_loss improved from 0.00805 to 0.00680, saving model to best_model.h5\n",
      "Epoch 20/100\n",
      "316/316 [==============================] - 0s 320us/step - loss: 0.0079 - val_loss: 0.0065\n",
      "\n",
      "Epoch 00020: val_loss improved from 0.00680 to 0.00645, saving model to best_model.h5\n",
      "Epoch 21/100\n",
      "316/316 [==============================] - 0s 301us/step - loss: 0.0075 - val_loss: 0.0059\n",
      "\n",
      "Epoch 00021: val_loss improved from 0.00645 to 0.00594, saving model to best_model.h5\n",
      "Epoch 22/100\n",
      "316/316 [==============================] - 0s 313us/step - loss: 0.0073 - val_loss: 0.0055\n",
      "\n",
      "Epoch 00022: val_loss improved from 0.00594 to 0.00548, saving model to best_model.h5\n",
      "Epoch 23/100\n",
      "316/316 [==============================] - 0s 313us/step - loss: 0.0072 - val_loss: 0.0050\n",
      "\n",
      "Epoch 00023: val_loss improved from 0.00548 to 0.00502, saving model to best_model.h5\n",
      "Epoch 24/100\n",
      "316/316 [==============================] - 0s 323us/step - loss: 0.0071 - val_loss: 0.0049\n",
      "\n",
      "Epoch 00024: val_loss improved from 0.00502 to 0.00488, saving model to best_model.h5\n",
      "Epoch 25/100\n",
      "316/316 [==============================] - 0s 313us/step - loss: 0.0070 - val_loss: 0.0048\n",
      "\n",
      "Epoch 00025: val_loss improved from 0.00488 to 0.00483, saving model to best_model.h5\n",
      "Epoch 26/100\n",
      "316/316 [==============================] - 0s 323us/step - loss: 0.0070 - val_loss: 0.0049\n",
      "\n",
      "Epoch 00026: val_loss did not improve from 0.00483\n",
      "Epoch 27/100\n",
      "316/316 [==============================] - 0s 342us/step - loss: 0.0069 - val_loss: 0.0046\n",
      "\n",
      "Epoch 00027: val_loss improved from 0.00483 to 0.00458, saving model to best_model.h5\n",
      "Epoch 28/100\n",
      "316/316 [==============================] - 0s 383us/step - loss: 0.0069 - val_loss: 0.0051\n",
      "\n",
      "Epoch 00028: val_loss did not improve from 0.00458\n",
      "Epoch 29/100\n",
      "316/316 [==============================] - 0s 354us/step - loss: 0.0070 - val_loss: 0.0044\n",
      "\n",
      "Epoch 00029: val_loss improved from 0.00458 to 0.00436, saving model to best_model.h5\n",
      "Epoch 30/100\n",
      "316/316 [==============================] - 0s 462us/step - loss: 0.0067 - val_loss: 0.0046\n",
      "\n",
      "Epoch 00030: val_loss did not improve from 0.00436\n",
      "Epoch 31/100\n",
      "316/316 [==============================] - 0s 421us/step - loss: 0.0067 - val_loss: 0.0046\n",
      "\n",
      "Epoch 00031: val_loss did not improve from 0.00436\n",
      "Epoch 32/100\n",
      "316/316 [==============================] - 0s 399us/step - loss: 0.0066 - val_loss: 0.0044\n",
      "\n",
      "Epoch 00032: val_loss did not improve from 0.00436\n",
      "Epoch 33/100\n",
      "316/316 [==============================] - 0s 404us/step - loss: 0.0066 - val_loss: 0.0043\n",
      "\n",
      "Epoch 00033: val_loss improved from 0.00436 to 0.00432, saving model to best_model.h5\n",
      "Epoch 34/100\n",
      "316/316 [==============================] - 0s 386us/step - loss: 0.0069 - val_loss: 0.0050\n",
      "\n",
      "Epoch 00034: val_loss did not improve from 0.00432\n",
      "Epoch 35/100\n",
      "316/316 [==============================] - 0s 351us/step - loss: 0.0067 - val_loss: 0.0042\n",
      "\n",
      "Epoch 00035: val_loss improved from 0.00432 to 0.00416, saving model to best_model.h5\n",
      "Epoch 36/100\n",
      "316/316 [==============================] - 0s 563us/step - loss: 0.0064 - val_loss: 0.0048\n",
      "\n",
      "Epoch 00036: val_loss did not improve from 0.00416\n",
      "Epoch 37/100\n",
      "316/316 [==============================] - 0s 481us/step - loss: 0.0066 - val_loss: 0.0049\n",
      "\n",
      "Epoch 00037: val_loss did not improve from 0.00416\n",
      "Epoch 38/100\n",
      "316/316 [==============================] - 0s 712us/step - loss: 0.0064 - val_loss: 0.0040\n",
      "\n",
      "Epoch 00038: val_loss improved from 0.00416 to 0.00401, saving model to best_model.h5\n",
      "Epoch 39/100\n",
      "316/316 [==============================] - 0s 301us/step - loss: 0.0063 - val_loss: 0.0049\n",
      "\n",
      "Epoch 00039: val_loss did not improve from 0.00401\n",
      "Epoch 40/100\n",
      "316/316 [==============================] - 0s 427us/step - loss: 0.0065 - val_loss: 0.0045\n",
      "\n",
      "Epoch 00040: val_loss did not improve from 0.00401\n",
      "Epoch 41/100\n",
      "316/316 [==============================] - 0s 514us/step - loss: 0.0063 - val_loss: 0.0041\n",
      "\n",
      "Epoch 00041: val_loss did not improve from 0.00401\n",
      "Epoch 42/100\n",
      "316/316 [==============================] - 0s 576us/step - loss: 0.0063 - val_loss: 0.0048\n",
      "\n",
      "Epoch 00042: val_loss did not improve from 0.00401\n",
      "Epoch 43/100\n",
      "316/316 [==============================] - 0s 633us/step - loss: 0.0062 - val_loss: 0.0044\n",
      "\n",
      "Epoch 00043: val_loss did not improve from 0.00401\n",
      "Epoch 44/100\n",
      "316/316 [==============================] - 0s 535us/step - loss: 0.0061 - val_loss: 0.0044\n",
      "\n",
      "Epoch 00044: val_loss did not improve from 0.00401\n",
      "Epoch 45/100\n",
      "316/316 [==============================] - 0s 402us/step - loss: 0.0061 - val_loss: 0.0048\n",
      "\n",
      "Epoch 00045: val_loss did not improve from 0.00401\n",
      "Epoch 46/100\n",
      "316/316 [==============================] - 0s 484us/step - loss: 0.0063 - val_loss: 0.0041\n",
      "\n",
      "Epoch 00046: val_loss did not improve from 0.00401\n",
      "Epoch 47/100\n",
      "316/316 [==============================] - 0s 418us/step - loss: 0.0062 - val_loss: 0.0043\n",
      "\n",
      "Epoch 00047: val_loss did not improve from 0.00401\n",
      "Epoch 48/100\n",
      "316/316 [==============================] - 0s 416us/step - loss: 0.0059 - val_loss: 0.0047\n"
     ]
    },
    {
     "name": "stdout",
     "output_type": "stream",
     "text": [
      "\n",
      "Epoch 00048: val_loss did not improve from 0.00401\n",
      "Epoch 49/100\n",
      "316/316 [==============================] - 0s 478us/step - loss: 0.0059 - val_loss: 0.0043\n",
      "\n",
      "Epoch 00049: val_loss did not improve from 0.00401\n",
      "Epoch 50/100\n",
      "316/316 [==============================] - 0s 453us/step - loss: 0.0056 - val_loss: 0.0044\n",
      "\n",
      "Epoch 00050: val_loss did not improve from 0.00401\n",
      "Epoch 51/100\n",
      "316/316 [==============================] - 0s 496us/step - loss: 0.0056 - val_loss: 0.0044\n",
      "\n",
      "Epoch 00051: val_loss did not improve from 0.00401\n",
      "Epoch 52/100\n",
      "316/316 [==============================] - 0s 576us/step - loss: 0.0057 - val_loss: 0.0042\n",
      "\n",
      "Epoch 00052: val_loss did not improve from 0.00401\n",
      "Epoch 53/100\n",
      "316/316 [==============================] - 0s 489us/step - loss: 0.0054 - val_loss: 0.0045\n",
      "\n",
      "Epoch 00053: val_loss did not improve from 0.00401\n",
      "Epoch 54/100\n",
      "316/316 [==============================] - 0s 418us/step - loss: 0.0054 - val_loss: 0.0043\n",
      "\n",
      "Epoch 00054: val_loss did not improve from 0.00401\n",
      "Epoch 55/100\n",
      "316/316 [==============================] - 0s 506us/step - loss: 0.0053 - val_loss: 0.0044\n",
      "\n",
      "Epoch 00055: val_loss did not improve from 0.00401\n",
      "Epoch 56/100\n",
      "316/316 [==============================] - 0s 453us/step - loss: 0.0052 - val_loss: 0.0046\n",
      "\n",
      "Epoch 00056: val_loss did not improve from 0.00401\n",
      "Epoch 57/100\n",
      "316/316 [==============================] - 0s 449us/step - loss: 0.0055 - val_loss: 0.0046\n",
      "\n",
      "Epoch 00057: val_loss did not improve from 0.00401\n",
      "Epoch 58/100\n",
      "316/316 [==============================] - 0s 481us/step - loss: 0.0053 - val_loss: 0.0045\n",
      "\n",
      "Epoch 00058: val_loss did not improve from 0.00401\n",
      "Epoch 00058: early stopping\n"
     ]
    }
   ],
   "source": [
    "n_features = 1\n",
    "\n",
    "# define model\n",
    "model = Sequential()\n",
    "\n",
    "# Single layer GRU\n",
    "#model.add(GRU(32 , input_shape=(n_steps, n_features) ))\n",
    "\n",
    "# Stacked GRU\n",
    "#model.add(GRU(8 , input_shape=(n_steps, n_features) , return_sequences=True))\n",
    "#model.add(GRU(16, return_sequences=True))\n",
    "#model.add(GRU(32))\n",
    "\n",
    "# Stacked LSTM\n",
    "model.add(LSTM(8, activation='relu', input_shape=(n_steps, n_features), return_sequences=True))\n",
    "model.add(LSTM(16, activation='relu', return_sequences=True))\n",
    "model.add(LSTM(32, activation='relu'))\n",
    "\n",
    "model.add(Dense(1))\n",
    "model.compile(optimizer='adam', loss='mse')\n",
    "\n",
    "\n",
    "# simple early stopping\n",
    "es = EarlyStopping(monitor='val_loss', mode='min', verbose=1, patience=20)\n",
    "mc = ModelCheckpoint('best_model.h5', monitor='val_loss', mode='min', verbose=1, save_best_only=True)\n",
    "\n",
    "history = model.fit(X_train, y_train, validation_split=0.2, epochs=100, batch_size=32, verbose=1, callbacks=[es, mc])\n",
    "\n",
    "# fit model\n",
    "#model.fit(X_train, y_train, epochs=50, verbose=1, callbacks=[es, mc])"
   ]
  },
  {
   "cell_type": "code",
   "execution_count": 70,
   "metadata": {},
   "outputs": [
    {
     "data": {
      "text/plain": [
       "{'val_loss': [0.21003037162973912,\n",
       "  0.17840420369860494,\n",
       "  0.13830454553229898,\n",
       "  0.0868637889057775,\n",
       "  0.02826554389505447,\n",
       "  0.010132442517323962,\n",
       "  0.04284129419092891,\n",
       "  0.01177071466971236,\n",
       "  0.011630898217753143,\n",
       "  0.018659068495506727,\n",
       "  0.014536347422937426,\n",
       "  0.012627647777052619,\n",
       "  0.013286056969597747,\n",
       "  0.012070339685895397,\n",
       "  0.010805474305407533,\n",
       "  0.009739871181052509,\n",
       "  0.00872108819187159,\n",
       "  0.008047271737993895,\n",
       "  0.006798706917811327,\n",
       "  0.006452069903688529,\n",
       "  0.005937966251380365,\n",
       "  0.005478080059991136,\n",
       "  0.005023661688488873,\n",
       "  0.004881893010527084,\n",
       "  0.004828791409624811,\n",
       "  0.004890310886033068,\n",
       "  0.004580344637867676,\n",
       "  0.005050231525792351,\n",
       "  0.004356491155450857,\n",
       "  0.004589339336557196,\n",
       "  0.004632859375870115,\n",
       "  0.004441920725357589,\n",
       "  0.004324805180105982,\n",
       "  0.00496811629862442,\n",
       "  0.004161734035226835,\n",
       "  0.004767068476074293,\n",
       "  0.0048750060598684265,\n",
       "  0.004013220873908906,\n",
       "  0.004854815256121698,\n",
       "  0.004486166124963025,\n",
       "  0.004051744436868761,\n",
       "  0.004776711270649316,\n",
       "  0.004401717060893963,\n",
       "  0.004381429159400772,\n",
       "  0.00480350329027853,\n",
       "  0.004092317357470718,\n",
       "  0.004302938613168235,\n",
       "  0.004703147286737833,\n",
       "  0.0042778813262481855,\n",
       "  0.004396904528117444,\n",
       "  0.004353384702478217,\n",
       "  0.004222873271195383,\n",
       "  0.004501444057714713,\n",
       "  0.004274161738826882,\n",
       "  0.004400153800585791,\n",
       "  0.004574306082286978,\n",
       "  0.004580748005168913,\n",
       "  0.004517928879896674],\n",
       " 'loss': [0.3966251921050156,\n",
       "  0.35954145351542705,\n",
       "  0.3113872088208983,\n",
       "  0.24608985400652583,\n",
       "  0.15864942043642455,\n",
       "  0.058091701798235314,\n",
       "  0.02243025717620231,\n",
       "  0.019256568443077274,\n",
       "  0.016551363293694544,\n",
       "  0.014988954886322535,\n",
       "  0.01406625246841319,\n",
       "  0.013166495032985753,\n",
       "  0.012375563583513605,\n",
       "  0.011603799766471868,\n",
       "  0.010872231466294844,\n",
       "  0.010109224344922018,\n",
       "  0.009434292968244681,\n",
       "  0.0088334445004599,\n",
       "  0.008331056669519483,\n",
       "  0.007883819052949548,\n",
       "  0.007547169399176595,\n",
       "  0.00732603479365382,\n",
       "  0.007233736140629913,\n",
       "  0.007101145543488143,\n",
       "  0.006996410450886322,\n",
       "  0.006957806187057042,\n",
       "  0.0069073839466783065,\n",
       "  0.006885465865223845,\n",
       "  0.0069712125696241856,\n",
       "  0.0067175446384692495,\n",
       "  0.0066904532192628595,\n",
       "  0.006649000534811352,\n",
       "  0.006626719508697337,\n",
       "  0.006889077657951584,\n",
       "  0.006686091163679015,\n",
       "  0.006392078061552742,\n",
       "  0.006631394765705247,\n",
       "  0.006412745818872995,\n",
       "  0.00633591062188903,\n",
       "  0.0064530712788146505,\n",
       "  0.006295258975057285,\n",
       "  0.006286210575011335,\n",
       "  0.006203417595523068,\n",
       "  0.0060949365231149554,\n",
       "  0.006063399188031879,\n",
       "  0.006312001502447867,\n",
       "  0.0061678874919403204,\n",
       "  0.005868768917773909,\n",
       "  0.005854556773187993,\n",
       "  0.005612622404211684,\n",
       "  0.005563500667391698,\n",
       "  0.005740508711248447,\n",
       "  0.005420609784041402,\n",
       "  0.005373830429596614,\n",
       "  0.005291446145989378,\n",
       "  0.005209966521427224,\n",
       "  0.005500495398440693,\n",
       "  0.005283073582568595]}"
      ]
     },
     "execution_count": 70,
     "metadata": {},
     "output_type": "execute_result"
    }
   ],
   "source": [
    "history.history"
   ]
  },
  {
   "cell_type": "code",
   "execution_count": 71,
   "metadata": {},
   "outputs": [
    {
     "data": {
      "image/png": "[encoded data removed]",
      "text/plain": [
       "<Figure size 432x288 with 1 Axes>"
      ]
     },
     "metadata": {
      "needs_background": "light"
     },
     "output_type": "display_data"
    }
   ],
   "source": [
    "\n",
    "## visualise performance (training loss vs validation loss)\n",
    "plt.plot(history.history['loss'])\n",
    "plt.plot(history.history['val_loss'])\n",
    "plt.title('model loss')\n",
    "plt.ylabel('loss')\n",
    "plt.xlabel('epoch')\n",
    "plt.legend(['train', 'validation'], loc='upper left')\n",
    "plt.show()"
   ]
  },
  {
   "cell_type": "markdown",
   "metadata": {},
   "source": [
    "## Model Building and Fitting CNN"
   ]
  },
  {
   "cell_type": "code",
   "execution_count": 72,
   "metadata": {},
   "outputs": [
    {
     "name": "stdout",
     "output_type": "stream",
     "text": [
      "Epoch 1/20\n",
      "395/395 [==============================] - 0s 418us/step - loss: 0.1599\n",
      "Epoch 2/20\n",
      "395/395 [==============================] - 0s 96us/step - loss: 0.0145\n",
      "Epoch 3/20\n",
      "395/395 [==============================] - 0s 84us/step - loss: 0.0059\n",
      "Epoch 4/20\n",
      "395/395 [==============================] - 0s 89us/step - loss: 0.0049\n",
      "Epoch 5/20\n",
      "395/395 [==============================] - 0s 124us/step - loss: 0.0037\n",
      "Epoch 6/20\n",
      "395/395 [==============================] - 0s 78us/step - loss: 0.0036\n",
      "Epoch 7/20\n",
      "395/395 [==============================] - 0s 84us/step - loss: 0.0034\n",
      "Epoch 8/20\n",
      "395/395 [==============================] - 0s 86us/step - loss: 0.0033\n",
      "Epoch 9/20\n",
      "395/395 [==============================] - 0s 104us/step - loss: 0.0032\n",
      "Epoch 10/20\n",
      "395/395 [==============================] - 0s 101us/step - loss: 0.0032\n",
      "Epoch 11/20\n",
      "395/395 [==============================] - 0s 89us/step - loss: 0.0029\n",
      "Epoch 12/20\n",
      "395/395 [==============================] - 0s 91us/step - loss: 0.0029\n",
      "Epoch 13/20\n",
      "395/395 [==============================] - 0s 104us/step - loss: 0.0026\n",
      "Epoch 14/20\n",
      "395/395 [==============================] - 0s 91us/step - loss: 0.0024\n",
      "Epoch 15/20\n",
      "395/395 [==============================] - 0s 91us/step - loss: 0.0024\n",
      "Epoch 16/20\n",
      "395/395 [==============================] - 0s 116us/step - loss: 0.0022\n",
      "Epoch 17/20\n",
      "395/395 [==============================] - 0s 106us/step - loss: 0.0022\n",
      "Epoch 18/20\n",
      "395/395 [==============================] - 0s 116us/step - loss: 0.0021\n",
      "Epoch 19/20\n",
      "395/395 [==============================] - 0s 162us/step - loss: 0.0020\n",
      "Epoch 20/20\n",
      "395/395 [==============================] - 0s 116us/step - loss: 0.0020\n"
     ]
    },
    {
     "data": {
      "text/plain": [
       "<keras.callbacks.callbacks.History at 0x1c1cc918788>"
      ]
     },
     "execution_count": 72,
     "metadata": {},
     "output_type": "execute_result"
    }
   ],
   "source": [
    "n_features = 1\n",
    "# define model\n",
    "model = Sequential()\n",
    "#model = Sequential()\n",
    "model.add(Conv1D(filters=64, kernel_size=2, activation='relu', input_shape=(n_steps, n_features)))\n",
    "#model.add(MaxPooling1D(pool_size=2))\n",
    "model.add(Flatten())\n",
    "model.add(Dense(50, activation='relu'))\n",
    "model.add(Dense(1))\n",
    "model.compile(optimizer='adam', loss='mse')\n",
    "# fit model\n",
    "model.fit(X_train, y_train, epochs=20, verbose=1)"
   ]
  },
  {
   "cell_type": "code",
   "execution_count": 90,
   "metadata": {},
   "outputs": [
    {
     "name": "stdout",
     "output_type": "stream",
     "text": [
      "Model: \"sequential_1\"\n",
      "_________________________________________________________________\n",
      "Layer (type)                 Output Shape              Param #   \n",
      "=================================================================\n",
      "lstm_1 (LSTM)                (None, 5, 8)              320       \n",
      "_________________________________________________________________\n",
      "lstm_2 (LSTM)                (None, 5, 16)             1600      \n",
      "_________________________________________________________________\n",
      "lstm_3 (LSTM)                (None, 32)                6272      \n",
      "_________________________________________________________________\n",
      "dense_1 (Dense)              (None, 1)                 33        \n",
      "=================================================================\n",
      "Total params: 8,225\n",
      "Trainable params: 8,225\n",
      "Non-trainable params: 0\n",
      "_________________________________________________________________\n"
     ]
    }
   ],
   "source": [
    "\n",
    "model.summary()"
   ]
  },
  {
   "cell_type": "code",
   "execution_count": 84,
   "metadata": {},
   "outputs": [
    {
     "data": {
      "image/png": "[encoded data removed]",
      "text/plain": [
       "<IPython.core.display.Image object>"
      ]
     },
     "execution_count": 84,
     "metadata": {},
     "output_type": "execute_result"
    }
   ],
   "source": [
    "#visualize Model\n",
    "from keras.utils.vis_utils import plot_model\n",
    "plot_model(model, to_file ='model_plot.png', show_shapes =True, show_layer_names=True)"
   ]
  },
  {
   "cell_type": "code",
   "execution_count": 93,
   "metadata": {},
   "outputs": [],
   "source": [
    "from ann_visualizer.visualize import ann_viz;\n",
    "import graphviz\n",
    "import pydotplus\n",
    "#ann_viz(model, view =True, filename ='network1.gv', title ='My neural network')"
   ]
  },
  {
   "cell_type": "markdown",
   "metadata": {},
   "source": [
    "### Load the saved model"
   ]
  },
  {
   "cell_type": "code",
   "execution_count": 74,
   "metadata": {},
   "outputs": [],
   "source": [
    "\n",
    "from keras.models import load_model\n",
    "\n",
    "# load the saved model\n",
    "model = load_model('best_model.h5')"
   ]
  },
  {
   "cell_type": "markdown",
   "metadata": {},
   "source": [
    "## Compute RMSE for Evaluation"
   ]
  },
  {
   "cell_type": "code",
   "execution_count": 75,
   "metadata": {},
   "outputs": [],
   "source": [
    "\n",
    "def rmse(y_true, y_pred):\n",
    "        return np.sqrt(np.mean(np.square(y_pred - y_true)))"
   ]
  },
  {
   "cell_type": "code",
   "execution_count": 76,
   "metadata": {},
   "outputs": [],
   "source": [
    "preds = []\n",
    "# demonstrate predictions\n",
    "for i in range(X_test.shape[0]):\n",
    "    x_input = X_test[i]\n",
    "    x_input = x_input.reshape((1, n_steps, n_features))\n",
    "    yhat = model.predict(x_input, verbose=0)\n",
    "    preds.append(yhat[0])\n",
    "    #print(yhat[0], y_test[i])"
   ]
  },
  {
   "cell_type": "code",
   "execution_count": 78,
   "metadata": {},
   "outputs": [],
   "source": [
    "#preds"
   ]
  },
  {
   "cell_type": "markdown",
   "metadata": {},
   "source": [
    "### After getting the predictions we need to transform the predicted and actual Y values into their original range\n",
    "### Remember we applied scaling previously"
   ]
  },
  {
   "cell_type": "code",
   "execution_count": 79,
   "metadata": {},
   "outputs": [],
   "source": [
    "# The output of the model is between 0 and 1.\n",
    "# Do an inverse map to get it back to the scale\n",
    "# of the original data-set.\n",
    "preds   = x_scaler.inverse_transform(np.array(preds))\n",
    "# we also rescale the y_test values into their original range (inverse scaling)\n",
    "actuals = x_scaler.inverse_transform(y_test)"
   ]
  },
  {
   "cell_type": "code",
   "execution_count": 80,
   "metadata": {},
   "outputs": [
    {
     "data": {
      "text/plain": [
       "3.3948112345290413"
      ]
     },
     "execution_count": 80,
     "metadata": {},
     "output_type": "execute_result"
    }
   ],
   "source": [
    "rmse(actuals, preds)"
   ]
  },
  {
   "cell_type": "markdown",
   "metadata": {},
   "source": [
    "## Plot True vs Predicted"
   ]
  },
  {
   "cell_type": "code",
   "execution_count": 81,
   "metadata": {},
   "outputs": [
    {
     "data": {
      "text/plain": [
       "<matplotlib.legend.Legend at 0x1c1c53c3b08>"
      ]
     },
     "execution_count": 81,
     "metadata": {},
     "output_type": "execute_result"
    },
    {
     "data": {
      "image/png": "[encoded data removed]",
      "text/plain": [
       "<Figure size 432x288 with 1 Axes>"
      ]
     },
     "metadata": {
      "needs_background": "light"
     },
     "output_type": "display_data"
    }
   ],
   "source": [
    "# multiple line plot\n",
    "plt.plot(actuals, marker='o', label='True')\n",
    "plt.plot(preds, marker='*', label='Predicted')\n",
    "\n",
    "plt.legend()"
   ]
  },
  {
   "cell_type": "code",
   "execution_count": 82,
   "metadata": {},
   "outputs": [
    {
     "data": {
      "text/plain": [
       "<matplotlib.legend.Legend at 0x1c1c53cb388>"
      ]
     },
     "execution_count": 82,
     "metadata": {},
     "output_type": "execute_result"
    },
    {
     "data": {
      "image/png": "[encoded data removed]",
      "text/plain": [
       "<Figure size 432x288 with 1 Axes>"
      ]
     },
     "metadata": {
      "needs_background": "light"
     },
     "output_type": "display_data"
    }
   ],
   "source": [
    "# multiple line plot\n",
    "plt.plot(actuals, marker='o', label='True')\n",
    "plt.plot(preds, marker='*', label='Predicted')\n",
    "\n",
    "plt.legend()"
   ]
  },
  {
   "cell_type": "code",
   "execution_count": null,
   "metadata": {},
   "outputs": [],
   "source": []
  }
 ],
 "metadata": {
  "kernelspec": {
   "display_name": "Python 3",
   "language": "python",
   "name": "python3"
  },
  "language_info": {
   "codemirror_mode": {
    "name": "ipython",
    "version": 3
   },
   "file_extension": ".py",
   "mimetype": "text/x-python",
   "name": "python",
   "nbconvert_exporter": "python",
   "pygments_lexer": "ipython3",
   "version": "3.7.6"
  }
 },
 "nbformat": 4,
 "nbformat_minor": 4
}
